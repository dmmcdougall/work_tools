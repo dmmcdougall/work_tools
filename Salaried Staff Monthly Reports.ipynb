{
 "cells": [
  {
   "cell_type": "code",
   "execution_count": null,
   "metadata": {},
   "outputs": [],
   "source": [
    "from IPython.display import HTML"
   ]
  },
  {
   "cell_type": "code",
   "execution_count": null,
   "metadata": {},
   "outputs": [],
   "source": [
    "HTML('''<script>\n",
    "code_show=true; \n",
    "function code_toggle() {\n",
    " if (code_show){\n",
    " $('div.input').hide();\n",
    " } else {\n",
    " $('div.input').show();\n",
    " }\n",
    " code_show = !code_show\n",
    "} \n",
    "$( document ).ready(code_toggle);\n",
    "</script>\n",
    "The raw code for this IPython notebook is by default hidden for easier reading.\n",
    "To toggle on/off the raw code, click <a href=\"javascript:code_toggle()\">here</a>.''')"
   ]
  },
  {
   "cell_type": "code",
   "execution_count": null,
   "metadata": {},
   "outputs": [],
   "source": [
    "from IPython.display import Image\n",
    "Image(\"img/for_jupyter.png\")"
   ]
  },
  {
   "cell_type": "code",
   "execution_count": null,
   "metadata": {},
   "outputs": [],
   "source": [
    "my_date = 'May 1, 2021'"
   ]
  },
  {
   "cell_type": "code",
   "execution_count": null,
   "metadata": {},
   "outputs": [],
   "source": [
    "print(f'The data is this notebook is valid through {my_date}')"
   ]
  },
  {
   "cell_type": "markdown",
   "metadata": {},
   "source": [
    "---"
   ]
  },
  {
   "cell_type": "markdown",
   "metadata": {},
   "source": [
    "# Head Salaried Hours Worked by Account Code - Current Fiscal Year"
   ]
  },
  {
   "cell_type": "markdown",
   "metadata": {},
   "source": [
    "This Report does the following:\n",
    " - takes over time and double time hours and converts them to regular time hours\n",
    " - sums the regular time, converted over time, and converted double time hours \n",
    " - calcualtes the percentage of the reports hours each line represents\n",
    " \n",
    " There is a report including all salaried staff hours, and one report for each current staff member.  The reports reflect incormation form the current fiscal year."
   ]
  },
  {
   "cell_type": "code",
   "execution_count": null,
   "metadata": {},
   "outputs": [],
   "source": [
    "import pandas as pd\n",
    "import db_functions as dbfnc\n",
    "import config as cfg\n",
    "\n",
    "# grab data from the db and input it to a df\n",
    "# the query is HeadworkedTable joined with ShowTable joined with HeadNamesTable filtered on ShowName 'FLEX DAY'\n",
    "sql_file=open(f'{cfg.sql_dir}\\head_hours_worked.sql')\n",
    "query = sql_file.read()\n",
    "\n",
    "with dbfnc.connection(cfg.my_driver, cfg.my_server, cfg.my_db) as conn:\n",
    "    df = pd.read_sql(query, conn)\n",
    "    \n",
    "# turn the datetime64 object into a string object for manipultaion\n",
    "df['Date_String'] = df['ShiftDate'].dt.strftime('%Y-%m-%d')\n",
    "\n",
    "# filter for current fiscal year only\n",
    "filter_mask = df.Date_String.apply(dbfnc.current_fiscal) \n",
    "df = df[filter_mask]\n",
    "\n",
    "# Overtime conversions\n",
    "df['OT_convert'] = df.OverTimeHours.apply(lambda x:x*1.5)\n",
    "df['DT_convert'] = df.DoubleTimeHours.apply(lambda x:x*2)\n",
    "\n",
    "# Combine all hours\n",
    "sum_cols =['RegTimeHours', 'OT_convert', 'DT_convert']\n",
    "df['all_hrs'] = df[sum_cols].sum(axis=1)\n",
    "#create percent column\n",
    "df['percent'] = (df['all_hrs'] / df['all_hrs'].sum()) * 100\n",
    "df.percent = df.percent.round(2)"
   ]
  },
  {
   "cell_type": "markdown",
   "metadata": {},
   "source": [
    "#### Hours Worked - All"
   ]
  },
  {
   "cell_type": "code",
   "execution_count": null,
   "metadata": {},
   "outputs": [],
   "source": [
    "# create the new df removing uneeded column data\n",
    "df_all = df[['AccountCodeID', 'Note', 'RegTimeHours', 'OT_convert', 'DT_convert', 'all_hrs', 'percent']].copy()\n",
    "\n",
    "# sum and present the data\n",
    "df_all.groupby(['AccountCodeID', 'Note']).sum()"
   ]
  },
  {
   "cell_type": "markdown",
   "metadata": {},
   "source": [
    "---"
   ]
  },
  {
   "cell_type": "markdown",
   "metadata": {},
   "source": [
    "#### Hours Worked - Arran "
   ]
  },
  {
   "cell_type": "code",
   "execution_count": null,
   "metadata": {},
   "outputs": [],
   "source": [
    "# kill the SettingWithCopy Warning\n",
    "pd.options.mode.chained_assignment = None  # default='warn'\n",
    "\n",
    "# filter for Arran\n",
    "filter_mask = df['FirstName'] == \"Arran\"\n",
    "df_af = df[filter_mask]\n",
    "\n",
    "#create percent column\n",
    "df_af['percent'] = (df_af['all_hrs'] / df_af['all_hrs'].sum()) * 100\n",
    "df_af.percent = df_af.percent.round(2)\n",
    "\n",
    "# create the new df removing uneeded column data\n",
    "df_af = df_af[['AccountCodeID', 'Note', 'RegTimeHours', 'OT_convert', 'DT_convert', 'all_hrs', 'percent']].copy()\n",
    "\n",
    "# sum and present the data\n",
    "df_af.groupby(['AccountCodeID', 'Note']).sum()"
   ]
  },
  {
   "cell_type": "markdown",
   "metadata": {},
   "source": [
    "---"
   ]
  },
  {
   "cell_type": "markdown",
   "metadata": {},
   "source": [
    "#### Hours Worked - David "
   ]
  },
  {
   "cell_type": "code",
   "execution_count": null,
   "metadata": {},
   "outputs": [],
   "source": [
    "# filter for David\n",
    "filter_mask = df['FirstName'] == \"David\"\n",
    "df_dm = df[filter_mask]\n",
    "\n",
    "#create percent column\n",
    "df_dm['percent'] = (df_dm['all_hrs'] / df_dm['all_hrs'].sum()) * 100\n",
    "df_dm.percent = df_dm.percent.round(2)\n",
    "\n",
    "# create the new df removing uneeded column data\n",
    "df_dm = df_dm[['AccountCodeID', 'Note', 'RegTimeHours', 'OT_convert', 'DT_convert', 'all_hrs', 'percent']].copy()\n",
    "\n",
    "# sum and present the data\n",
    "df_dm.groupby(['AccountCodeID', 'Note']).sum()"
   ]
  },
  {
   "cell_type": "markdown",
   "metadata": {},
   "source": [
    "---"
   ]
  },
  {
   "cell_type": "markdown",
   "metadata": {},
   "source": [
    "#### Hours Worked - Jack "
   ]
  },
  {
   "cell_type": "code",
   "execution_count": null,
   "metadata": {},
   "outputs": [],
   "source": [
    "# filter for Jack\n",
    "filter_mask = df['FirstName'] == \"Jack\"\n",
    "df_jj = df[filter_mask]\n",
    "\n",
    "#create percent column\n",
    "df_jj['percent'] = (df_jj['all_hrs'] / df_jj['all_hrs'].sum()) * 100\n",
    "df_jj.percent = df_jj.percent.round(2)\n",
    "\n",
    "# create the new df removing uneeded column data\n",
    "df_jj = df_jj[['AccountCodeID', 'Note', 'RegTimeHours', 'OT_convert', 'DT_convert', 'all_hrs', 'percent']].copy()\n",
    "\n",
    "# sum and present the data\n",
    "df_jj.groupby(['AccountCodeID', 'Note']).sum()"
   ]
  },
  {
   "cell_type": "markdown",
   "metadata": {},
   "source": [
    "---"
   ]
  },
  {
   "cell_type": "markdown",
   "metadata": {},
   "source": [
    "#### Hours Worked - Jaclyn "
   ]
  },
  {
   "cell_type": "code",
   "execution_count": null,
   "metadata": {},
   "outputs": [],
   "source": [
    "# filter for Jaclyn\n",
    "filter_mask = df['FirstName'] == \"Jaclyn\"\n",
    "df_jg = df[filter_mask]\n",
    "\n",
    "#create percent column\n",
    "df_jg['percent'] = (df_jg['all_hrs'] / df_jg['all_hrs'].sum()) * 100\n",
    "df_jg.percent = df_jg.percent.round(2)\n",
    "\n",
    "# create the new df removing uneeded column data\n",
    "df_jg  = df_jg [['AccountCodeID', 'Note', 'RegTimeHours', 'OT_convert', 'DT_convert', 'all_hrs', 'percent']].copy()\n",
    "\n",
    "# sum and present the data\n",
    "df_jg.groupby(['AccountCodeID', 'Note']).sum()"
   ]
  },
  {
   "cell_type": "markdown",
   "metadata": {},
   "source": [
    "---"
   ]
  },
  {
   "cell_type": "markdown",
   "metadata": {},
   "source": [
    "#### Hours Worked - Kris "
   ]
  },
  {
   "cell_type": "code",
   "execution_count": null,
   "metadata": {},
   "outputs": [],
   "source": [
    "# filter for Kris\n",
    "filter_mask = df['FirstName'] == \"Kris\"\n",
    "df_kl = df[filter_mask]\n",
    "\n",
    "#create percent column\n",
    "df_kl['percent'] = (df_kl['all_hrs'] / df_kl['all_hrs'].sum()) * 100\n",
    "df_kl.percent = df_kl.percent.round(2)\n",
    "\n",
    "# create the new df removing uneeded column data\n",
    "df_kl= df_kl[['AccountCodeID', 'Note', 'RegTimeHours', 'OT_convert', 'DT_convert', 'all_hrs', 'percent']].copy()\n",
    "\n",
    "# sum and present the data\n",
    "df_kl.groupby(['AccountCodeID', 'Note']).sum()"
   ]
  },
  {
   "cell_type": "markdown",
   "metadata": {},
   "source": [
    "---"
   ]
  },
  {
   "cell_type": "markdown",
   "metadata": {},
   "source": [
    "#### Hours Worked - Matt "
   ]
  },
  {
   "cell_type": "code",
   "execution_count": null,
   "metadata": {},
   "outputs": [],
   "source": [
    "# filter for Matt\n",
    "filter_mask = df['FirstName'] == \"Matt\"\n",
    "df_mg = df[filter_mask]\n",
    "\n",
    "#create percent column\n",
    "df_mg['percent'] = (df_mg['all_hrs'] / df_mg['all_hrs'].sum()) * 100\n",
    "df_mg.percent = df_mg.percent.round(2)\n",
    "\n",
    "# create the new df removing uneeded column data\n",
    "df_mg = df_mg[['AccountCodeID', 'Note', 'RegTimeHours', 'OT_convert', 'DT_convert', 'all_hrs', 'percent']].copy()\n",
    "\n",
    "# sum and present the data\n",
    "df_mg.groupby(['AccountCodeID', 'Note']).sum()"
   ]
  },
  {
   "cell_type": "markdown",
   "metadata": {},
   "source": [
    "---"
   ]
  },
  {
   "cell_type": "markdown",
   "metadata": {},
   "source": [
    "#### Hours Worked - Rikki "
   ]
  },
  {
   "cell_type": "code",
   "execution_count": null,
   "metadata": {},
   "outputs": [],
   "source": [
    "# filter for Rikki\n",
    "filter_mask = df['FirstName'] == \"Rikki\"\n",
    "df_rs = df[filter_mask]\n",
    "\n",
    "#create percent column\n",
    "df_rs['percent'] = (df_rs['all_hrs'] / df_rs['all_hrs'].sum()) * 100\n",
    "df_rs.percent = df_rs.percent.round(2)\n",
    "\n",
    "# create the new df removing uneeded column data\n",
    "df_rs = df_rs[['AccountCodeID', 'Note', 'RegTimeHours', 'OT_convert', 'DT_convert', 'all_hrs', 'percent']].copy()\n",
    "\n",
    "# sum and present the data\n",
    "df_rs.groupby(['AccountCodeID', 'Note']).sum()"
   ]
  },
  {
   "cell_type": "markdown",
   "metadata": {},
   "source": [
    "---"
   ]
  },
  {
   "cell_type": "markdown",
   "metadata": {},
   "source": [
    "#### Hours Worked - Terry "
   ]
  },
  {
   "cell_type": "code",
   "execution_count": null,
   "metadata": {},
   "outputs": [],
   "source": [
    "# filter for Terry\n",
    "filter_mask = df['FirstName'] == \"Terry\"\n",
    "df_ta = df[filter_mask]\n",
    "\n",
    "#create percent column\n",
    "df_ta['percent'] = (df_ta['all_hrs'] / df_ta['all_hrs'].sum()) * 100\n",
    "df_ta.percent = df_ta.percent.round(2)\n",
    "\n",
    "# create the new df removing uneeded column data\n",
    "df_ta = df_ta[['AccountCodeID', 'Note', 'RegTimeHours', 'OT_convert', 'DT_convert', 'all_hrs', 'percent']].copy()\n",
    "\n",
    "# sum and present the data\n",
    "df_ta.groupby(['AccountCodeID', 'Note']).sum()"
   ]
  },
  {
   "cell_type": "markdown",
   "metadata": {},
   "source": [
    "---"
   ]
  },
  {
   "cell_type": "markdown",
   "metadata": {},
   "source": [
    "## LIEU hours"
   ]
  },
  {
   "cell_type": "markdown",
   "metadata": {},
   "source": [
    "This report gives the balance of hours accrued by each staff member.  The calcualtion involves converting over time and double time to regualr time, summing those lines, removing hours payed out, and calcualting hours owed per week based on a 40 hour work week. "
   ]
  },
  {
   "cell_type": "code",
   "execution_count": null,
   "metadata": {},
   "outputs": [],
   "source": [
    "from datetime import date, timedelta\n",
    "\n",
    "# grab data from the db and input it to a df\n",
    "# the query is HeadworkedTable joined with ShowTable joined with HeadNamesTable filtered on ShowName 'FLEX DAY'\n",
    "sql_file=open(f'{cfg.sql_dir}\\lieu_hours.sql')\n",
    "query = sql_file.read()\n",
    "\n",
    "with dbfnc.connection(cfg.my_driver, cfg.my_server, cfg.my_db) as conn:\n",
    "    df = pd.read_sql(query, conn)\n",
    "    \n",
    "# filter out those who have left the company\n",
    "remove_list = ['Juan', 'Donnie', 'Phil']\n",
    "filter_mask = ~df['FirstName'].isin(remove_list)\n",
    "df = df[filter_mask]\n",
    "\n",
    "# create a day of the week number (Sun == 6, Mon == 0)\n",
    "df['day-of-week']=df['ShiftDate'].dt.dayofweek\n",
    "\n",
    "# function to calcualte the weekending date\n",
    "def wk_ending(my_df):\n",
    "    if my_df[6]==6:\n",
    "        wk_end_offset = 6\n",
    "    else:\n",
    "        wk_end_offset =5-my_df[6]\n",
    "    wkend_date = pd.Timestamp(my_df[1] + timedelta(days=wk_end_offset))\n",
    "    return wkend_date\n",
    "\n",
    "# add the week ending date\n",
    "df['week_ending'] = df.apply(wk_ending, axis=1)\n",
    "\n",
    "# Overtime conversions\n",
    "df['OT_convert'] = df.OverTimeHours.apply(lambda x:x*1.5)\n",
    "df['DT_convert'] = df.DoubleTimeHours.apply(lambda x:x*2)\n",
    "\n",
    "# convert the payouts to negative integers \n",
    "df['neg_payouts'] = df.Payoutinhrs.apply(lambda x:x*-1)\n",
    "\n",
    "# Combine all hours\n",
    "sum_cols =['RegTimeHours', 'OT_convert', 'DT_convert']\n",
    "df['all_hrs_wrkd'] = df[sum_cols].sum(axis=1)\n",
    "\n",
    "# sum and present the data\n",
    "df = df.groupby(['FirstName','week_ending']).sum().reset_index()\n",
    "\n",
    "#df['hours_owed'] = df.apply(over_under, axis=1)\n",
    "df['hours_owed'] = -40\n",
    "\n",
    "sum_cols =['all_hrs_wrkd', 'hours_owed', 'neg_payouts']\n",
    "df['balance'] = df[sum_cols].sum(axis=1)\n",
    "\n",
    "# create the new df removing uneeded column data\n",
    "df = df[['FirstName', 'week_ending', 'balance']].copy()\n",
    "\n",
    "df = df.groupby(['FirstName']).sum().round(2)\n",
    "\n",
    "df"
   ]
  },
  {
   "cell_type": "markdown",
   "metadata": {},
   "source": [
    "## TOIL Payouts to Heads - Current Fiscal Year"
   ]
  },
  {
   "cell_type": "markdown",
   "metadata": {},
   "source": [
    "This report sums the payouts recived by each salaried head staff member this fiscal year and reports those values in hours."
   ]
  },
  {
   "cell_type": "code",
   "execution_count": null,
   "metadata": {},
   "outputs": [],
   "source": [
    "# grab data from the db and input it to a df\n",
    "# the query is HeadworkedTable joined with ShowTable joined with HeadNamesTable filtered on ShowName 'FLEX DAY'\n",
    "sql_file=open(f'{cfg.sql_dir}\\TOIL_payouts.sql')\n",
    "query = sql_file.read()\n",
    "\n",
    "with dbfnc.connection(cfg.my_driver, cfg.my_server, cfg.my_db) as conn:\n",
    "    df = pd.read_sql(query, conn)\n",
    "    \n",
    "# turn the datetime64 object into a string object for manipultaion\n",
    "df['Date_String'] = df['PayoutDate'].dt.strftime('%Y-%m-%d')\n",
    "\n",
    "# filter for current fiscal year only\n",
    "filter_mask = df.Date_String.apply(dbfnc.current_fiscal) \n",
    "df = df[filter_mask]"
   ]
  },
  {
   "cell_type": "code",
   "execution_count": null,
   "metadata": {},
   "outputs": [],
   "source": [
    "# sum and group each heads hours. "
   ]
  },
  {
   "cell_type": "code",
   "execution_count": null,
   "metadata": {},
   "outputs": [],
   "source": [
    "# create the new df removing uneeded column data\n",
    "df = df[['FirstName', 'PayoutinHrs']].copy()\n",
    "\n",
    "#.. and style for preentation\n",
    "df.style.set_properties(**{'text-align':'center'}).hide_index()"
   ]
  },
  {
   "cell_type": "markdown",
   "metadata": {},
   "source": [
    "## Head FLEX Days Used - Last 12 months"
   ]
  },
  {
   "cell_type": "markdown",
   "metadata": {},
   "source": [
    "This report lists the FLEX DAYS used by the salaried heads within the last 12 months.  "
   ]
  },
  {
   "cell_type": "code",
   "execution_count": null,
   "metadata": {},
   "outputs": [],
   "source": [
    "# grab data from the db and input it to a df\n",
    "# the query is HeadworkedTable joined with ShowTable joined with HeadNamesTable filtered on ShowName 'FLEX DAY'\n",
    "sql_file=open(f'{cfg.sql_dir}\\head_toil_days.sql')\n",
    "query = sql_file.read()\n",
    "\n",
    "with dbfnc.connection(cfg.my_driver, cfg.my_server, cfg.my_db) as conn:\n",
    "    df = pd.read_sql(query, conn)\n",
    "    \n",
    "# filter for last 12 months\n",
    "value_to_check = pd.Timestamp(date.today().year-1, date.today().month, date.today().day)\n",
    "filter_mask = df['ShiftDate'] > value_to_check\n",
    "df = df[filter_mask]\n",
    "\n",
    "# FLEX DAYS only filter\n",
    "filter_mask = df['ShowTitle'] == 'FLEX DAY'\n",
    "df = df[filter_mask]\n",
    "\n",
    "# turn the datetime64 object into a string object for manipultaion\n",
    "df['Date_String'] = df['ShiftDate'].dt.strftime('%Y-%m-%d')\n",
    "\n",
    "# create the fiscal info from the new string object\n",
    "df['Fiscal Year'] = df.Date_String.apply(dbfnc.fiscal_yr)\n",
    "df['Fiscal Quarter'] = df.Date_String.apply(dbfnc.fiscal_q)\n",
    "\n",
    "# sort for presentation\n",
    "df.sort_values(by='FirstName', inplace=True)\n",
    "sort_list = ['Fiscal Year', 'Fiscal Quarter']\n",
    "df.sort_values(by=sort_list, ascending=False, inplace=True)\n",
    "\n",
    "#create the new df removing uneeded column data\n",
    "df = df[['Fiscal Year', 'Fiscal Quarter', 'FirstName', 'Date_String']].copy()\n",
    "\n",
    "#.. and style for preentation\n",
    "df.style.set_properties(**{'text-align':'center'}).hide_index()"
   ]
  }
 ],
 "metadata": {
  "kernelspec": {
   "display_name": "Python 3",
   "language": "python",
   "name": "python3"
  },
  "language_info": {
   "codemirror_mode": {
    "name": "ipython",
    "version": 3
   },
   "file_extension": ".py",
   "mimetype": "text/x-python",
   "name": "python",
   "nbconvert_exporter": "python",
   "pygments_lexer": "ipython3",
   "version": "3.8.2"
  }
 },
 "nbformat": 4,
 "nbformat_minor": 4
}

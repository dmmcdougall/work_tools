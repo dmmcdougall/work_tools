{
 "cells": [
  {
   "cell_type": "code",
   "execution_count": null,
   "metadata": {},
   "outputs": [],
   "source": [
    "import pandas as pd\n",
    "import db_functions as dbfnc\n",
    "import config as cfg\n",
    "\n",
    "# grab data from the db and input it to a df\n",
    "# the query is HeadworkedTable joined with ShowTable joined with HeadNamesTable filtered on ShowName 'FLEX DAY'\n",
    "sql_file=open(f'{cfg.sql_dir}\\TMPHeadtbl_weekly_totals.sql')\n",
    "query = sql_file.read()\n",
    "\n",
    "with dbfnc.connection(cfg.my_driver, cfg.my_server, cfg.my_db) as conn:\n",
    "    df = pd.read_sql(query, conn)"
   ]
  },
  {
   "cell_type": "code",
   "execution_count": null,
   "metadata": {},
   "outputs": [],
   "source": [
    "# Overtime conversions\n",
    "df['OT_convert'] = df.OT.apply(lambda x:x*1.5)\n",
    "df['DT_convert'] = df.Double.apply(lambda x:x*2)\n",
    "\n",
    "# Combine all hours\n",
    "sum_cols =['Reg', 'OT_convert', 'DT_convert']\n",
    "df['all_hrs'] = df[sum_cols].sum(axis=1)"
   ]
  },
  {
   "cell_type": "code",
   "execution_count": null,
   "metadata": {},
   "outputs": [],
   "source": [
    "# sum and present the data\n",
    "df.groupby(['FirstName','Note']).sum()"
   ]
  },
  {
   "cell_type": "code",
   "execution_count": null,
   "metadata": {},
   "outputs": [],
   "source": [
    "# grab data from the db and input it to a df\n",
    "# the query is HeadworkedTable joined with ShowTable joined with HeadNamesTable filtered on ShowName 'FLEX DAY'\n",
    "sql_file=open(f'{cfg.sql_dir}\\TMPCasualtbl_weekly_totals.sql')\n",
    "query = sql_file.read()\n",
    "\n",
    "with dbfnc.connection(cfg.my_driver, cfg.my_server, cfg.my_db) as conn:\n",
    "    df = pd.read_sql(query, conn)\n",
    "    \n",
    "# Overtime conversions\n",
    "df['OT_convert'] = df.OT.apply(lambda x:x*1.5)\n",
    "df['DT_convert'] = df.Double.apply(lambda x:x*2)\n",
    "\n",
    "# Combine all hours\n",
    "sum_cols =['Reg', 'OT_convert', 'DT_convert']\n",
    "df['all_hrs'] = df[sum_cols].sum(axis=1)\n",
    "\n",
    "# sum and present the data\n",
    "df.groupby(['FirstName','Note']).sum()"
   ]
  },
  {
   "cell_type": "code",
   "execution_count": null,
   "metadata": {},
   "outputs": [],
   "source": [
    "# grab data from the db and input it to a df\n",
    "# the query is HeadworkedTable joined with ShowTable joined with HeadNamesTable filtered on ShowName 'FLEX DAY'\n",
    "sql_file=open(f'{cfg.sql_dir}\\TMPCasualtbl_weekly_totals.sql')\n",
    "query = sql_file.read()\n",
    "\n",
    "with dbfnc.connection(cfg.my_driver, cfg.my_server, cfg.my_db) as conn:\n",
    "    df = pd.read_sql(query, conn)\n",
    "    \n",
    "# Overtime conversions\n",
    "df['OT_convert'] = df.OT.apply(lambda x:x*1.5)\n",
    "df['DT_convert'] = df.Double.apply(lambda x:x*2)\n",
    "\n",
    "# Combine all hours\n",
    "sum_cols =['Reg', 'OT_convert', 'DT_convert']\n",
    "df['all_hrs'] = df[sum_cols].sum(axis=1)\n",
    "\n",
    "df = df.groupby(['FirstName','Note']).sum()\n",
    "\n",
    "# sum and present the data\n",
    "# for label, _df in df.groupby(['FirstName','Note']):\n",
    "#     print(label)\n",
    "#     print(_df)\n",
    "#     print()"
   ]
  },
  {
   "cell_type": "code",
   "execution_count": null,
   "metadata": {},
   "outputs": [],
   "source": [
    "container = []\n",
    "\n",
    "# sum and present the data\n",
    "for label, _df in df.groupby(['FirstName']):\n",
    "    _df.loc['Subtotal'] = _df[['Reg','OT', 'Double']].sum()\n",
    "    container.append(_df)\n"
   ]
  },
  {
   "cell_type": "code",
   "execution_count": null,
   "metadata": {},
   "outputs": [],
   "source": [
    "df_summary = pd.concat(container)"
   ]
  },
  {
   "cell_type": "code",
   "execution_count": null,
   "metadata": {},
   "outputs": [],
   "source": [
    "df_summary.loc['Grand Total'] = df[['Reg', 'OT', 'Double']].sum()"
   ]
  },
  {
   "cell_type": "code",
   "execution_count": null,
   "metadata": {},
   "outputs": [],
   "source": [
    "df_summary = df_summary.fillna('')"
   ]
  },
  {
   "cell_type": "code",
   "execution_count": null,
   "metadata": {},
   "outputs": [],
   "source": [
    "df_summary"
   ]
  },
  {
   "cell_type": "code",
   "execution_count": null,
   "metadata": {},
   "outputs": [],
   "source": []
  },
  {
   "cell_type": "code",
   "execution_count": null,
   "metadata": {},
   "outputs": [],
   "source": []
  },
  {
   "cell_type": "code",
   "execution_count": null,
   "metadata": {},
   "outputs": [],
   "source": []
  }
 ],
 "metadata": {
  "kernelspec": {
   "display_name": "Python 3",
   "language": "python",
   "name": "python3"
  },
  "language_info": {
   "codemirror_mode": {
    "name": "ipython",
    "version": 3
   },
   "file_extension": ".py",
   "mimetype": "text/x-python",
   "name": "python",
   "nbconvert_exporter": "python",
   "pygments_lexer": "ipython3",
   "version": "3.8.2"
  }
 },
 "nbformat": 4,
 "nbformat_minor": 4
}

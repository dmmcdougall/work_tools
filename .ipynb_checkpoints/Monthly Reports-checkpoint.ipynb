{
 "cells": [
  {
   "cell_type": "markdown",
   "metadata": {},
   "source": [
    "# Monthly Reports"
   ]
  },
  {
   "cell_type": "markdown",
   "metadata": {},
   "source": [
    "## Head FLEX Days Used - Last 12 months"
   ]
  },
  {
   "cell_type": "code",
   "execution_count": 109,
   "metadata": {},
   "outputs": [],
   "source": [
    "# start with imports\n",
    "import pandas as pd\n",
    "import db_functions as dbfnc\n",
    "import config as cfg\n",
    "from datetime import date"
   ]
  },
  {
   "cell_type": "code",
   "execution_count": 110,
   "metadata": {},
   "outputs": [],
   "source": [
    "# grab data from the db and input it to a df\n",
    "# the query is HeadworkedTable joined with ShowTable joined with HeadNamesTable filtered on ShowName 'FLEX DAY'\n",
    "sql_file=open(f'{cfg.sql_dir}\\head_toil_days.sql')\n",
    "query = sql_file.read()\n",
    "\n",
    "with dbfnc.connection(cfg.my_driver, cfg.my_server, cfg.my_db) as conn:\n",
    "    df = pd.read_sql(query, conn)"
   ]
  },
  {
   "cell_type": "code",
   "execution_count": 111,
   "metadata": {},
   "outputs": [],
   "source": [
    "# filter for last 12 months\n",
    "value_to_check = pd.Timestamp(date.today().year-1, date.today().month, date.today().day)\n",
    "filter_mask = df['ShiftDate'] > value_to_check\n",
    "df = df[filter_mask]"
   ]
  },
  {
   "cell_type": "code",
   "execution_count": 112,
   "metadata": {},
   "outputs": [],
   "source": [
    "# create df with FLEX DAYS only with a filter\n",
    "filter_mask = df['ShowTitle'] == 'FLEX DAY'\n",
    "df = df[filter_mask]"
   ]
  },
  {
   "cell_type": "code",
   "execution_count": 113,
   "metadata": {},
   "outputs": [],
   "source": [
    "# turn the datetime64 object into a string object for manipultaion\n",
    "df['Date_String'] = df['ShiftDate'].dt.strftime('%Y-%m-%d')"
   ]
  },
  {
   "cell_type": "code",
   "execution_count": 114,
   "metadata": {},
   "outputs": [],
   "source": [
    "# create the fiscal info from the new string object\n",
    "df['Fiscal Year'] = df.Date_String.apply(dbfnc.fiscal_yr)\n",
    "df['Fiscal Quarter'] = df.Date_String.apply(dbfnc.fiscal_q)"
   ]
  },
  {
   "cell_type": "code",
   "execution_count": 115,
   "metadata": {},
   "outputs": [],
   "source": [
    "# sort for presentation\n",
    "df.sort_values(by='FirstName', inplace=True)\n",
    "sort_list = ['Fiscal Year', 'Fiscal Quarter']\n",
    "df.sort_values(by=sort_list, ascending=False, inplace=True)"
   ]
  },
  {
   "cell_type": "code",
   "execution_count": 116,
   "metadata": {},
   "outputs": [],
   "source": [
    "#create the new df removing uneeded column data\n",
    "df = df[['Fiscal Year', 'Fiscal Quarter', 'FirstName', 'ShiftDate']].copy()"
   ]
  },
  {
   "cell_type": "code",
   "execution_count": 117,
   "metadata": {},
   "outputs": [
    {
     "data": {
      "text/html": [
       "<style  type=\"text/css\" >\n",
       "    #T_2d19485f_8999_11eb_9cae_480fcf6695dfrow0_col0 {\n",
       "            text-align:  center;\n",
       "        }    #T_2d19485f_8999_11eb_9cae_480fcf6695dfrow0_col1 {\n",
       "            text-align:  center;\n",
       "        }    #T_2d19485f_8999_11eb_9cae_480fcf6695dfrow0_col2 {\n",
       "            text-align:  center;\n",
       "        }    #T_2d19485f_8999_11eb_9cae_480fcf6695dfrow0_col3 {\n",
       "            text-align:  center;\n",
       "        }    #T_2d19485f_8999_11eb_9cae_480fcf6695dfrow1_col0 {\n",
       "            text-align:  center;\n",
       "        }    #T_2d19485f_8999_11eb_9cae_480fcf6695dfrow1_col1 {\n",
       "            text-align:  center;\n",
       "        }    #T_2d19485f_8999_11eb_9cae_480fcf6695dfrow1_col2 {\n",
       "            text-align:  center;\n",
       "        }    #T_2d19485f_8999_11eb_9cae_480fcf6695dfrow1_col3 {\n",
       "            text-align:  center;\n",
       "        }    #T_2d19485f_8999_11eb_9cae_480fcf6695dfrow2_col0 {\n",
       "            text-align:  center;\n",
       "        }    #T_2d19485f_8999_11eb_9cae_480fcf6695dfrow2_col1 {\n",
       "            text-align:  center;\n",
       "        }    #T_2d19485f_8999_11eb_9cae_480fcf6695dfrow2_col2 {\n",
       "            text-align:  center;\n",
       "        }    #T_2d19485f_8999_11eb_9cae_480fcf6695dfrow2_col3 {\n",
       "            text-align:  center;\n",
       "        }    #T_2d19485f_8999_11eb_9cae_480fcf6695dfrow3_col0 {\n",
       "            text-align:  center;\n",
       "        }    #T_2d19485f_8999_11eb_9cae_480fcf6695dfrow3_col1 {\n",
       "            text-align:  center;\n",
       "        }    #T_2d19485f_8999_11eb_9cae_480fcf6695dfrow3_col2 {\n",
       "            text-align:  center;\n",
       "        }    #T_2d19485f_8999_11eb_9cae_480fcf6695dfrow3_col3 {\n",
       "            text-align:  center;\n",
       "        }    #T_2d19485f_8999_11eb_9cae_480fcf6695dfrow4_col0 {\n",
       "            text-align:  center;\n",
       "        }    #T_2d19485f_8999_11eb_9cae_480fcf6695dfrow4_col1 {\n",
       "            text-align:  center;\n",
       "        }    #T_2d19485f_8999_11eb_9cae_480fcf6695dfrow4_col2 {\n",
       "            text-align:  center;\n",
       "        }    #T_2d19485f_8999_11eb_9cae_480fcf6695dfrow4_col3 {\n",
       "            text-align:  center;\n",
       "        }    #T_2d19485f_8999_11eb_9cae_480fcf6695dfrow5_col0 {\n",
       "            text-align:  center;\n",
       "        }    #T_2d19485f_8999_11eb_9cae_480fcf6695dfrow5_col1 {\n",
       "            text-align:  center;\n",
       "        }    #T_2d19485f_8999_11eb_9cae_480fcf6695dfrow5_col2 {\n",
       "            text-align:  center;\n",
       "        }    #T_2d19485f_8999_11eb_9cae_480fcf6695dfrow5_col3 {\n",
       "            text-align:  center;\n",
       "        }    #T_2d19485f_8999_11eb_9cae_480fcf6695dfrow6_col0 {\n",
       "            text-align:  center;\n",
       "        }    #T_2d19485f_8999_11eb_9cae_480fcf6695dfrow6_col1 {\n",
       "            text-align:  center;\n",
       "        }    #T_2d19485f_8999_11eb_9cae_480fcf6695dfrow6_col2 {\n",
       "            text-align:  center;\n",
       "        }    #T_2d19485f_8999_11eb_9cae_480fcf6695dfrow6_col3 {\n",
       "            text-align:  center;\n",
       "        }    #T_2d19485f_8999_11eb_9cae_480fcf6695dfrow7_col0 {\n",
       "            text-align:  center;\n",
       "        }    #T_2d19485f_8999_11eb_9cae_480fcf6695dfrow7_col1 {\n",
       "            text-align:  center;\n",
       "        }    #T_2d19485f_8999_11eb_9cae_480fcf6695dfrow7_col2 {\n",
       "            text-align:  center;\n",
       "        }    #T_2d19485f_8999_11eb_9cae_480fcf6695dfrow7_col3 {\n",
       "            text-align:  center;\n",
       "        }    #T_2d19485f_8999_11eb_9cae_480fcf6695dfrow8_col0 {\n",
       "            text-align:  center;\n",
       "        }    #T_2d19485f_8999_11eb_9cae_480fcf6695dfrow8_col1 {\n",
       "            text-align:  center;\n",
       "        }    #T_2d19485f_8999_11eb_9cae_480fcf6695dfrow8_col2 {\n",
       "            text-align:  center;\n",
       "        }    #T_2d19485f_8999_11eb_9cae_480fcf6695dfrow8_col3 {\n",
       "            text-align:  center;\n",
       "        }    #T_2d19485f_8999_11eb_9cae_480fcf6695dfrow9_col0 {\n",
       "            text-align:  center;\n",
       "        }    #T_2d19485f_8999_11eb_9cae_480fcf6695dfrow9_col1 {\n",
       "            text-align:  center;\n",
       "        }    #T_2d19485f_8999_11eb_9cae_480fcf6695dfrow9_col2 {\n",
       "            text-align:  center;\n",
       "        }    #T_2d19485f_8999_11eb_9cae_480fcf6695dfrow9_col3 {\n",
       "            text-align:  center;\n",
       "        }    #T_2d19485f_8999_11eb_9cae_480fcf6695dfrow10_col0 {\n",
       "            text-align:  center;\n",
       "        }    #T_2d19485f_8999_11eb_9cae_480fcf6695dfrow10_col1 {\n",
       "            text-align:  center;\n",
       "        }    #T_2d19485f_8999_11eb_9cae_480fcf6695dfrow10_col2 {\n",
       "            text-align:  center;\n",
       "        }    #T_2d19485f_8999_11eb_9cae_480fcf6695dfrow10_col3 {\n",
       "            text-align:  center;\n",
       "        }    #T_2d19485f_8999_11eb_9cae_480fcf6695dfrow11_col0 {\n",
       "            text-align:  center;\n",
       "        }    #T_2d19485f_8999_11eb_9cae_480fcf6695dfrow11_col1 {\n",
       "            text-align:  center;\n",
       "        }    #T_2d19485f_8999_11eb_9cae_480fcf6695dfrow11_col2 {\n",
       "            text-align:  center;\n",
       "        }    #T_2d19485f_8999_11eb_9cae_480fcf6695dfrow11_col3 {\n",
       "            text-align:  center;\n",
       "        }    #T_2d19485f_8999_11eb_9cae_480fcf6695dfrow12_col0 {\n",
       "            text-align:  center;\n",
       "        }    #T_2d19485f_8999_11eb_9cae_480fcf6695dfrow12_col1 {\n",
       "            text-align:  center;\n",
       "        }    #T_2d19485f_8999_11eb_9cae_480fcf6695dfrow12_col2 {\n",
       "            text-align:  center;\n",
       "        }    #T_2d19485f_8999_11eb_9cae_480fcf6695dfrow12_col3 {\n",
       "            text-align:  center;\n",
       "        }    #T_2d19485f_8999_11eb_9cae_480fcf6695dfrow13_col0 {\n",
       "            text-align:  center;\n",
       "        }    #T_2d19485f_8999_11eb_9cae_480fcf6695dfrow13_col1 {\n",
       "            text-align:  center;\n",
       "        }    #T_2d19485f_8999_11eb_9cae_480fcf6695dfrow13_col2 {\n",
       "            text-align:  center;\n",
       "        }    #T_2d19485f_8999_11eb_9cae_480fcf6695dfrow13_col3 {\n",
       "            text-align:  center;\n",
       "        }    #T_2d19485f_8999_11eb_9cae_480fcf6695dfrow14_col0 {\n",
       "            text-align:  center;\n",
       "        }    #T_2d19485f_8999_11eb_9cae_480fcf6695dfrow14_col1 {\n",
       "            text-align:  center;\n",
       "        }    #T_2d19485f_8999_11eb_9cae_480fcf6695dfrow14_col2 {\n",
       "            text-align:  center;\n",
       "        }    #T_2d19485f_8999_11eb_9cae_480fcf6695dfrow14_col3 {\n",
       "            text-align:  center;\n",
       "        }    #T_2d19485f_8999_11eb_9cae_480fcf6695dfrow15_col0 {\n",
       "            text-align:  center;\n",
       "        }    #T_2d19485f_8999_11eb_9cae_480fcf6695dfrow15_col1 {\n",
       "            text-align:  center;\n",
       "        }    #T_2d19485f_8999_11eb_9cae_480fcf6695dfrow15_col2 {\n",
       "            text-align:  center;\n",
       "        }    #T_2d19485f_8999_11eb_9cae_480fcf6695dfrow15_col3 {\n",
       "            text-align:  center;\n",
       "        }</style><table id=\"T_2d19485f_8999_11eb_9cae_480fcf6695df\" ><thead>    <tr>        <th class=\"col_heading level0 col0\" >Fiscal Year</th>        <th class=\"col_heading level0 col1\" >Fiscal Quarter</th>        <th class=\"col_heading level0 col2\" >FirstName</th>        <th class=\"col_heading level0 col3\" >ShiftDate</th>    </tr></thead><tbody>\n",
       "                <tr>\n",
       "                                <td id=\"T_2d19485f_8999_11eb_9cae_480fcf6695dfrow0_col0\" class=\"data row0 col0\" >2020-2021</td>\n",
       "                        <td id=\"T_2d19485f_8999_11eb_9cae_480fcf6695dfrow0_col1\" class=\"data row0 col1\" >2</td>\n",
       "                        <td id=\"T_2d19485f_8999_11eb_9cae_480fcf6695dfrow0_col2\" class=\"data row0 col2\" >Arran</td>\n",
       "                        <td id=\"T_2d19485f_8999_11eb_9cae_480fcf6695dfrow0_col3\" class=\"data row0 col3\" >2021-02-05 00:00:00</td>\n",
       "            </tr>\n",
       "            <tr>\n",
       "                                <td id=\"T_2d19485f_8999_11eb_9cae_480fcf6695dfrow1_col0\" class=\"data row1 col0\" >2020-2021</td>\n",
       "                        <td id=\"T_2d19485f_8999_11eb_9cae_480fcf6695dfrow1_col1\" class=\"data row1 col1\" >2</td>\n",
       "                        <td id=\"T_2d19485f_8999_11eb_9cae_480fcf6695dfrow1_col2\" class=\"data row1 col2\" >David</td>\n",
       "                        <td id=\"T_2d19485f_8999_11eb_9cae_480fcf6695dfrow1_col3\" class=\"data row1 col3\" >2021-01-29 00:00:00</td>\n",
       "            </tr>\n",
       "            <tr>\n",
       "                                <td id=\"T_2d19485f_8999_11eb_9cae_480fcf6695dfrow2_col0\" class=\"data row2 col0\" >2020-2021</td>\n",
       "                        <td id=\"T_2d19485f_8999_11eb_9cae_480fcf6695dfrow2_col1\" class=\"data row2 col1\" >2</td>\n",
       "                        <td id=\"T_2d19485f_8999_11eb_9cae_480fcf6695dfrow2_col2\" class=\"data row2 col2\" >Jack</td>\n",
       "                        <td id=\"T_2d19485f_8999_11eb_9cae_480fcf6695dfrow2_col3\" class=\"data row2 col3\" >2021-01-14 00:00:00</td>\n",
       "            </tr>\n",
       "            <tr>\n",
       "                                <td id=\"T_2d19485f_8999_11eb_9cae_480fcf6695dfrow3_col0\" class=\"data row3 col0\" >2020-2021</td>\n",
       "                        <td id=\"T_2d19485f_8999_11eb_9cae_480fcf6695dfrow3_col1\" class=\"data row3 col1\" >2</td>\n",
       "                        <td id=\"T_2d19485f_8999_11eb_9cae_480fcf6695dfrow3_col2\" class=\"data row3 col2\" >Jaclyn</td>\n",
       "                        <td id=\"T_2d19485f_8999_11eb_9cae_480fcf6695dfrow3_col3\" class=\"data row3 col3\" >2020-12-11 00:00:00</td>\n",
       "            </tr>\n",
       "            <tr>\n",
       "                                <td id=\"T_2d19485f_8999_11eb_9cae_480fcf6695dfrow4_col0\" class=\"data row4 col0\" >2020-2021</td>\n",
       "                        <td id=\"T_2d19485f_8999_11eb_9cae_480fcf6695dfrow4_col1\" class=\"data row4 col1\" >2</td>\n",
       "                        <td id=\"T_2d19485f_8999_11eb_9cae_480fcf6695dfrow4_col2\" class=\"data row4 col2\" >Kris</td>\n",
       "                        <td id=\"T_2d19485f_8999_11eb_9cae_480fcf6695dfrow4_col3\" class=\"data row4 col3\" >2021-02-19 00:00:00</td>\n",
       "            </tr>\n",
       "            <tr>\n",
       "                                <td id=\"T_2d19485f_8999_11eb_9cae_480fcf6695dfrow5_col0\" class=\"data row5 col0\" >2020-2021</td>\n",
       "                        <td id=\"T_2d19485f_8999_11eb_9cae_480fcf6695dfrow5_col1\" class=\"data row5 col1\" >2</td>\n",
       "                        <td id=\"T_2d19485f_8999_11eb_9cae_480fcf6695dfrow5_col2\" class=\"data row5 col2\" >Matt</td>\n",
       "                        <td id=\"T_2d19485f_8999_11eb_9cae_480fcf6695dfrow5_col3\" class=\"data row5 col3\" >2021-02-26 00:00:00</td>\n",
       "            </tr>\n",
       "            <tr>\n",
       "                                <td id=\"T_2d19485f_8999_11eb_9cae_480fcf6695dfrow6_col0\" class=\"data row6 col0\" >2020-2021</td>\n",
       "                        <td id=\"T_2d19485f_8999_11eb_9cae_480fcf6695dfrow6_col1\" class=\"data row6 col1\" >2</td>\n",
       "                        <td id=\"T_2d19485f_8999_11eb_9cae_480fcf6695dfrow6_col2\" class=\"data row6 col2\" >Rikki</td>\n",
       "                        <td id=\"T_2d19485f_8999_11eb_9cae_480fcf6695dfrow6_col3\" class=\"data row6 col3\" >2021-02-25 00:00:00</td>\n",
       "            </tr>\n",
       "            <tr>\n",
       "                                <td id=\"T_2d19485f_8999_11eb_9cae_480fcf6695dfrow7_col0\" class=\"data row7 col0\" >2020-2021</td>\n",
       "                        <td id=\"T_2d19485f_8999_11eb_9cae_480fcf6695dfrow7_col1\" class=\"data row7 col1\" >2</td>\n",
       "                        <td id=\"T_2d19485f_8999_11eb_9cae_480fcf6695dfrow7_col2\" class=\"data row7 col2\" >Terry</td>\n",
       "                        <td id=\"T_2d19485f_8999_11eb_9cae_480fcf6695dfrow7_col3\" class=\"data row7 col3\" >2021-02-17 00:00:00</td>\n",
       "            </tr>\n",
       "            <tr>\n",
       "                                <td id=\"T_2d19485f_8999_11eb_9cae_480fcf6695dfrow8_col0\" class=\"data row8 col0\" >2020-2021</td>\n",
       "                        <td id=\"T_2d19485f_8999_11eb_9cae_480fcf6695dfrow8_col1\" class=\"data row8 col1\" >1</td>\n",
       "                        <td id=\"T_2d19485f_8999_11eb_9cae_480fcf6695dfrow8_col2\" class=\"data row8 col2\" >Arran</td>\n",
       "                        <td id=\"T_2d19485f_8999_11eb_9cae_480fcf6695dfrow8_col3\" class=\"data row8 col3\" >2020-10-16 00:00:00</td>\n",
       "            </tr>\n",
       "            <tr>\n",
       "                                <td id=\"T_2d19485f_8999_11eb_9cae_480fcf6695dfrow9_col0\" class=\"data row9 col0\" >2020-2021</td>\n",
       "                        <td id=\"T_2d19485f_8999_11eb_9cae_480fcf6695dfrow9_col1\" class=\"data row9 col1\" >1</td>\n",
       "                        <td id=\"T_2d19485f_8999_11eb_9cae_480fcf6695dfrow9_col2\" class=\"data row9 col2\" >David</td>\n",
       "                        <td id=\"T_2d19485f_8999_11eb_9cae_480fcf6695dfrow9_col3\" class=\"data row9 col3\" >2020-11-20 00:00:00</td>\n",
       "            </tr>\n",
       "            <tr>\n",
       "                                <td id=\"T_2d19485f_8999_11eb_9cae_480fcf6695dfrow10_col0\" class=\"data row10 col0\" >2020-2021</td>\n",
       "                        <td id=\"T_2d19485f_8999_11eb_9cae_480fcf6695dfrow10_col1\" class=\"data row10 col1\" >1</td>\n",
       "                        <td id=\"T_2d19485f_8999_11eb_9cae_480fcf6695dfrow10_col2\" class=\"data row10 col2\" >Jack</td>\n",
       "                        <td id=\"T_2d19485f_8999_11eb_9cae_480fcf6695dfrow10_col3\" class=\"data row10 col3\" >2020-11-20 00:00:00</td>\n",
       "            </tr>\n",
       "            <tr>\n",
       "                                <td id=\"T_2d19485f_8999_11eb_9cae_480fcf6695dfrow11_col0\" class=\"data row11 col0\" >2020-2021</td>\n",
       "                        <td id=\"T_2d19485f_8999_11eb_9cae_480fcf6695dfrow11_col1\" class=\"data row11 col1\" >1</td>\n",
       "                        <td id=\"T_2d19485f_8999_11eb_9cae_480fcf6695dfrow11_col2\" class=\"data row11 col2\" >Jaclyn</td>\n",
       "                        <td id=\"T_2d19485f_8999_11eb_9cae_480fcf6695dfrow11_col3\" class=\"data row11 col3\" >2020-11-10 00:00:00</td>\n",
       "            </tr>\n",
       "            <tr>\n",
       "                                <td id=\"T_2d19485f_8999_11eb_9cae_480fcf6695dfrow12_col0\" class=\"data row12 col0\" >2020-2021</td>\n",
       "                        <td id=\"T_2d19485f_8999_11eb_9cae_480fcf6695dfrow12_col1\" class=\"data row12 col1\" >1</td>\n",
       "                        <td id=\"T_2d19485f_8999_11eb_9cae_480fcf6695dfrow12_col2\" class=\"data row12 col2\" >Kris</td>\n",
       "                        <td id=\"T_2d19485f_8999_11eb_9cae_480fcf6695dfrow12_col3\" class=\"data row12 col3\" >2020-11-27 00:00:00</td>\n",
       "            </tr>\n",
       "            <tr>\n",
       "                                <td id=\"T_2d19485f_8999_11eb_9cae_480fcf6695dfrow13_col0\" class=\"data row13 col0\" >2020-2021</td>\n",
       "                        <td id=\"T_2d19485f_8999_11eb_9cae_480fcf6695dfrow13_col1\" class=\"data row13 col1\" >1</td>\n",
       "                        <td id=\"T_2d19485f_8999_11eb_9cae_480fcf6695dfrow13_col2\" class=\"data row13 col2\" >Matt</td>\n",
       "                        <td id=\"T_2d19485f_8999_11eb_9cae_480fcf6695dfrow13_col3\" class=\"data row13 col3\" >2020-11-02 00:00:00</td>\n",
       "            </tr>\n",
       "            <tr>\n",
       "                                <td id=\"T_2d19485f_8999_11eb_9cae_480fcf6695dfrow14_col0\" class=\"data row14 col0\" >2020-2021</td>\n",
       "                        <td id=\"T_2d19485f_8999_11eb_9cae_480fcf6695dfrow14_col1\" class=\"data row14 col1\" >1</td>\n",
       "                        <td id=\"T_2d19485f_8999_11eb_9cae_480fcf6695dfrow14_col2\" class=\"data row14 col2\" >Rikki</td>\n",
       "                        <td id=\"T_2d19485f_8999_11eb_9cae_480fcf6695dfrow14_col3\" class=\"data row14 col3\" >2020-11-09 00:00:00</td>\n",
       "            </tr>\n",
       "            <tr>\n",
       "                                <td id=\"T_2d19485f_8999_11eb_9cae_480fcf6695dfrow15_col0\" class=\"data row15 col0\" >2020-2021</td>\n",
       "                        <td id=\"T_2d19485f_8999_11eb_9cae_480fcf6695dfrow15_col1\" class=\"data row15 col1\" >1</td>\n",
       "                        <td id=\"T_2d19485f_8999_11eb_9cae_480fcf6695dfrow15_col2\" class=\"data row15 col2\" >Terry</td>\n",
       "                        <td id=\"T_2d19485f_8999_11eb_9cae_480fcf6695dfrow15_col3\" class=\"data row15 col3\" >2020-09-25 00:00:00</td>\n",
       "            </tr>\n",
       "    </tbody></table>"
      ],
      "text/plain": [
       "<pandas.io.formats.style.Styler at 0x25b6e9a0d60>"
      ]
     },
     "execution_count": 117,
     "metadata": {},
     "output_type": "execute_result"
    }
   ],
   "source": [
    "#.. and style for preentation\n",
    "df.style.set_properties(**{'text-align':'center'}).hide_index()"
   ]
  },
  {
   "cell_type": "markdown",
   "metadata": {},
   "source": [
    "---"
   ]
  },
  {
   "cell_type": "markdown",
   "metadata": {},
   "source": [
    "## TOIL Payouts to Heads - Current Fiscal Year"
   ]
  },
  {
   "cell_type": "code",
   "execution_count": 118,
   "metadata": {},
   "outputs": [],
   "source": [
    "import pandas as pd\n",
    "import db_functions as dbfnc\n",
    "import config as cfg\n",
    "from datetime import date"
   ]
  },
  {
   "cell_type": "code",
   "execution_count": 119,
   "metadata": {},
   "outputs": [],
   "source": [
    "# grab data from the db and input it to a df\n",
    "# the query is HeadworkedTable joined with ShowTable joined with HeadNamesTable filtered on ShowName 'FLEX DAY'\n",
    "sql_file=open(f'{cfg.sql_dir}\\TOIL_payouts.sql')\n",
    "query = sql_file.read()\n",
    "\n",
    "with dbfnc.connection(cfg.my_driver, cfg.my_server, cfg.my_db) as conn:\n",
    "    df = pd.read_sql(query, conn)"
   ]
  },
  {
   "cell_type": "code",
   "execution_count": 120,
   "metadata": {},
   "outputs": [],
   "source": [
    "# turn the datetime64 object into a string object for manipultaion\n",
    "df['Date_String'] = df['PayoutDate'].dt.strftime('%Y-%m-%d')"
   ]
  },
  {
   "cell_type": "code",
   "execution_count": 121,
   "metadata": {},
   "outputs": [],
   "source": [
    "# filter for current fiscal year only\n",
    "filter_mask = df.Date_String.apply(dbfnc.current_fiscal) \n",
    "df = df[filter_mask]"
   ]
  },
  {
   "cell_type": "code",
   "execution_count": 122,
   "metadata": {},
   "outputs": [],
   "source": [
    "# sum and group each heads hours. "
   ]
  },
  {
   "cell_type": "code",
   "execution_count": 123,
   "metadata": {},
   "outputs": [],
   "source": [
    "# create the new df removing uneeded column data\n",
    "df = df[['FirstName', 'PayoutinHrs']].copy()"
   ]
  },
  {
   "cell_type": "code",
   "execution_count": 124,
   "metadata": {},
   "outputs": [
    {
     "data": {
      "text/html": [
       "<style  type=\"text/css\" >\n",
       "    #T_2d26fb24_8999_11eb_b207_480fcf6695dfrow0_col0 {\n",
       "            text-align:  center;\n",
       "        }    #T_2d26fb24_8999_11eb_b207_480fcf6695dfrow0_col1 {\n",
       "            text-align:  center;\n",
       "        }    #T_2d26fb24_8999_11eb_b207_480fcf6695dfrow1_col0 {\n",
       "            text-align:  center;\n",
       "        }    #T_2d26fb24_8999_11eb_b207_480fcf6695dfrow1_col1 {\n",
       "            text-align:  center;\n",
       "        }</style><table id=\"T_2d26fb24_8999_11eb_b207_480fcf6695df\" ><thead>    <tr>        <th class=\"col_heading level0 col0\" >FirstName</th>        <th class=\"col_heading level0 col1\" >PayoutinHrs</th>    </tr></thead><tbody>\n",
       "                <tr>\n",
       "                                <td id=\"T_2d26fb24_8999_11eb_b207_480fcf6695dfrow0_col0\" class=\"data row0 col0\" >Arran</td>\n",
       "                        <td id=\"T_2d26fb24_8999_11eb_b207_480fcf6695dfrow0_col1\" class=\"data row0 col1\" >0.250000</td>\n",
       "            </tr>\n",
       "            <tr>\n",
       "                                <td id=\"T_2d26fb24_8999_11eb_b207_480fcf6695dfrow1_col0\" class=\"data row1 col0\" >Jaclyn</td>\n",
       "                        <td id=\"T_2d26fb24_8999_11eb_b207_480fcf6695dfrow1_col1\" class=\"data row1 col1\" >0.400000</td>\n",
       "            </tr>\n",
       "    </tbody></table>"
      ],
      "text/plain": [
       "<pandas.io.formats.style.Styler at 0x25b6fea9d60>"
      ]
     },
     "execution_count": 124,
     "metadata": {},
     "output_type": "execute_result"
    }
   ],
   "source": [
    "#.. and style for preentation\n",
    "df.style.set_properties(**{'text-align':'center'}).hide_index()"
   ]
  },
  {
   "cell_type": "markdown",
   "metadata": {},
   "source": [
    "---"
   ]
  },
  {
   "cell_type": "markdown",
   "metadata": {},
   "source": [
    "# Head Salaried Hours Worked - Current Year"
   ]
  },
  {
   "cell_type": "code",
   "execution_count": 125,
   "metadata": {},
   "outputs": [],
   "source": [
    "import pandas as pd\n",
    "import db_functions as dbfnc\n",
    "import config as cfg\n",
    "from datetime import date"
   ]
  },
  {
   "cell_type": "code",
   "execution_count": 126,
   "metadata": {},
   "outputs": [],
   "source": [
    "# grab data from the db and input it to a df\n",
    "# the query is HeadworkedTable joined with ShowTable joined with HeadNamesTable filtered on ShowName 'FLEX DAY'\n",
    "sql_file=open(f'{cfg.sql_dir}\\head_hours_worked.sql')\n",
    "query = sql_file.read()\n",
    "\n",
    "with dbfnc.connection(cfg.my_driver, cfg.my_server, cfg.my_db) as conn:\n",
    "    df = pd.read_sql(query, conn)"
   ]
  },
  {
   "cell_type": "code",
   "execution_count": 127,
   "metadata": {},
   "outputs": [],
   "source": [
    "# turn the datetime64 object into a string object for manipultaion\n",
    "df['Date_String'] = df['ShiftDate'].dt.strftime('%Y-%m-%d')"
   ]
  },
  {
   "cell_type": "code",
   "execution_count": 128,
   "metadata": {},
   "outputs": [],
   "source": [
    "# filter for current fiscal year only\n",
    "filter_mask = df.Date_String.apply(dbfnc.current_fiscal) \n",
    "df = df[filter_mask]"
   ]
  },
  {
   "cell_type": "code",
   "execution_count": 129,
   "metadata": {},
   "outputs": [],
   "source": [
    "# Overtime conversions\n",
    "df['OT_convert'] = df.OverTimeHours.apply(lambda x:x*1.5)\n",
    "df['DT_convert'] = df.DoubleTimeHours.apply(lambda x:x*2)"
   ]
  },
  {
   "cell_type": "code",
   "execution_count": 130,
   "metadata": {},
   "outputs": [],
   "source": [
    "# Combine all hours\n",
    "sum_cols =['RegTimeHours', 'OT_convert', 'DT_convert']\n",
    "df['all_hrs'] = df[sum_cols].sum(axis=1)"
   ]
  },
  {
   "cell_type": "code",
   "execution_count": 131,
   "metadata": {},
   "outputs": [],
   "source": [
    "#create percent column\n",
    "df['percent'] = (df['all_hrs'] / df['all_hrs'].sum()) * 100\n",
    "df.percent = df.percent.round(2)"
   ]
  },
  {
   "cell_type": "code",
   "execution_count": 132,
   "metadata": {},
   "outputs": [],
   "source": [
    "# create the new df removing uneeded column data\n",
    "df = df[['AccountCodeID', 'Note', 'all_hrs', 'percent']].copy()"
   ]
  },
  {
   "cell_type": "code",
   "execution_count": 133,
   "metadata": {},
   "outputs": [
    {
     "data": {
      "text/html": [
       "<div>\n",
       "<style scoped>\n",
       "    .dataframe tbody tr th:only-of-type {\n",
       "        vertical-align: middle;\n",
       "    }\n",
       "\n",
       "    .dataframe tbody tr th {\n",
       "        vertical-align: top;\n",
       "    }\n",
       "\n",
       "    .dataframe thead th {\n",
       "        text-align: right;\n",
       "    }\n",
       "</style>\n",
       "<table border=\"1\" class=\"dataframe\">\n",
       "  <thead>\n",
       "    <tr style=\"text-align: right;\">\n",
       "      <th></th>\n",
       "      <th></th>\n",
       "      <th>all_hrs</th>\n",
       "      <th>percent</th>\n",
       "    </tr>\n",
       "    <tr>\n",
       "      <th>AccountCodeID</th>\n",
       "      <th>Note</th>\n",
       "      <th></th>\n",
       "      <th></th>\n",
       "    </tr>\n",
       "  </thead>\n",
       "  <tbody>\n",
       "    <tr>\n",
       "      <th>6210-50-504</th>\n",
       "      <th>Jack Singer Salaried Billable</th>\n",
       "      <td>67.50</td>\n",
       "      <td>0.82</td>\n",
       "    </tr>\n",
       "    <tr>\n",
       "      <th>7290-50-504</th>\n",
       "      <th>LX Maintenance</th>\n",
       "      <td>61.50</td>\n",
       "      <td>0.76</td>\n",
       "    </tr>\n",
       "    <tr>\n",
       "      <th>7420-20-204</th>\n",
       "      <th>Snd Res Co</th>\n",
       "      <td>1.50</td>\n",
       "      <td>0.02</td>\n",
       "    </tr>\n",
       "    <tr>\n",
       "      <th>7430-50-504</th>\n",
       "      <th>Sound Maintenance</th>\n",
       "      <td>152.50</td>\n",
       "      <td>1.86</td>\n",
       "    </tr>\n",
       "    <tr>\n",
       "      <th>7470-20-204</th>\n",
       "      <th>Stg Res Co</th>\n",
       "      <td>10.50</td>\n",
       "      <td>0.12</td>\n",
       "    </tr>\n",
       "    <tr>\n",
       "      <th>7480-50-504</th>\n",
       "      <th>Stage Maintenance</th>\n",
       "      <td>675.75</td>\n",
       "      <td>8.22</td>\n",
       "    </tr>\n",
       "    <tr>\n",
       "      <th>8430-50-504</th>\n",
       "      <th>Salaried Admin</th>\n",
       "      <td>3677.00</td>\n",
       "      <td>45.09</td>\n",
       "    </tr>\n",
       "    <tr>\n",
       "      <th>8440-20-203</th>\n",
       "      <th>Lance Labour</th>\n",
       "      <td>9.00</td>\n",
       "      <td>0.10</td>\n",
       "    </tr>\n",
       "    <tr>\n",
       "      <th>8455-50-504</th>\n",
       "      <th>Vacation/Holiday/Flex/Sick</th>\n",
       "      <td>1011.00</td>\n",
       "      <td>12.60</td>\n",
       "    </tr>\n",
       "    <tr>\n",
       "      <th>8870-50-504</th>\n",
       "      <th>Training</th>\n",
       "      <td>2.50</td>\n",
       "      <td>0.03</td>\n",
       "    </tr>\n",
       "    <tr>\n",
       "      <th>9999-99-999</th>\n",
       "      <th>OFF BUDGET</th>\n",
       "      <td>0.75</td>\n",
       "      <td>0.01</td>\n",
       "    </tr>\n",
       "    <tr>\n",
       "      <th>CRF</th>\n",
       "      <th>Capital replacement</th>\n",
       "      <td>2588.50</td>\n",
       "      <td>31.59</td>\n",
       "    </tr>\n",
       "  </tbody>\n",
       "</table>\n",
       "</div>"
      ],
      "text/plain": [
       "                                             all_hrs  percent\n",
       "AccountCodeID Note                                           \n",
       "6210-50-504   Jack Singer Salaried Billable    67.50     0.82\n",
       "7290-50-504   LX Maintenance                   61.50     0.76\n",
       "7420-20-204   Snd Res Co                        1.50     0.02\n",
       "7430-50-504   Sound Maintenance               152.50     1.86\n",
       "7470-20-204   Stg Res Co                       10.50     0.12\n",
       "7480-50-504   Stage Maintenance               675.75     8.22\n",
       "8430-50-504   Salaried Admin                 3677.00    45.09\n",
       "8440-20-203   Lance Labour                      9.00     0.10\n",
       "8455-50-504   Vacation/Holiday/Flex/Sick     1011.00    12.60\n",
       "8870-50-504   Training                          2.50     0.03\n",
       "9999-99-999   OFF BUDGET                        0.75     0.01\n",
       "CRF           Capital replacement            2588.50    31.59"
      ]
     },
     "execution_count": 133,
     "metadata": {},
     "output_type": "execute_result"
    }
   ],
   "source": [
    "# sum and present the data\n",
    "df.groupby(['AccountCodeID', 'Note']).sum()"
   ]
  },
  {
   "cell_type": "code",
   "execution_count": null,
   "metadata": {},
   "outputs": [],
   "source": []
  }
 ],
 "metadata": {
  "kernelspec": {
   "display_name": "Python 3",
   "language": "python",
   "name": "python3"
  },
  "language_info": {
   "codemirror_mode": {
    "name": "ipython",
    "version": 3
   },
   "file_extension": ".py",
   "mimetype": "text/x-python",
   "name": "python",
   "nbconvert_exporter": "python",
   "pygments_lexer": "ipython3",
   "version": "3.8.2"
  }
 },
 "nbformat": 4,
 "nbformat_minor": 4
}

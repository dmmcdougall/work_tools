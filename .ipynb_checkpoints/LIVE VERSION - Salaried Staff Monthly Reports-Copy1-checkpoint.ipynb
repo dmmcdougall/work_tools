{
 "cells": [
  {
   "cell_type": "code",
   "execution_count": 1,
   "metadata": {},
   "outputs": [],
   "source": [
    "from IPython.display import HTML"
   ]
  },
  {
   "cell_type": "code",
   "execution_count": 2,
   "metadata": {},
   "outputs": [
    {
     "data": {
      "text/html": [
       "<script>\n",
       "code_show=true; \n",
       "function code_toggle() {\n",
       " if (code_show){\n",
       " $('div.input').hide();\n",
       " } else {\n",
       " $('div.input').show();\n",
       " }\n",
       " code_show = !code_show\n",
       "} \n",
       "$( document ).ready(code_toggle);\n",
       "</script>\n",
       "The raw code for this IPython notebook is by default hidden for easier reading.\n",
       "To toggle on/off the raw code, click <a href=\"javascript:code_toggle()\">here</a>."
      ],
      "text/plain": [
       "<IPython.core.display.HTML object>"
      ]
     },
     "execution_count": 2,
     "metadata": {},
     "output_type": "execute_result"
    }
   ],
   "source": [
    "HTML('''<script>\n",
    "code_show=true; \n",
    "function code_toggle() {\n",
    " if (code_show){\n",
    " $('div.input').hide();\n",
    " } else {\n",
    " $('div.input').show();\n",
    " }\n",
    " code_show = !code_show\n",
    "} \n",
    "$( document ).ready(code_toggle);\n",
    "</script>\n",
    "The raw code for this IPython notebook is by default hidden for easier reading.\n",
    "To toggle on/off the raw code, click <a href=\"javascript:code_toggle()\">here</a>.''')"
   ]
  },
  {
   "cell_type": "markdown",
   "metadata": {},
   "source": [
    "# MONTHLY REPORTS"
   ]
  },
  {
   "cell_type": "markdown",
   "metadata": {},
   "source": [
    "## Head FLEX Days Used - Last 12 months"
   ]
  },
  {
   "cell_type": "markdown",
   "metadata": {},
   "source": [
    "I could make a little talky talkey here if I wanted."
   ]
  },
  {
   "cell_type": "code",
   "execution_count": 3,
   "metadata": {},
   "outputs": [],
   "source": [
    "# start with imports\n",
    "import pandas as pd\n",
    "import db_functions as dbfnc\n",
    "import config as cfg\n",
    "from datetime import date"
   ]
  },
  {
   "cell_type": "code",
   "execution_count": 4,
   "metadata": {},
   "outputs": [],
   "source": [
    "# grab data from the db and input it to a df\n",
    "# the query is HeadworkedTable joined with ShowTable joined with HeadNamesTable filtered on ShowName 'FLEX DAY'\n",
    "sql_file=open(f'{cfg.sql_dir}\\head_toil_days.sql')\n",
    "query = sql_file.read()\n",
    "\n",
    "with dbfnc.connection(cfg.my_driver, cfg.my_server, cfg.my_db) as conn:\n",
    "    df = pd.read_sql(query, conn)"
   ]
  },
  {
   "cell_type": "code",
   "execution_count": 5,
   "metadata": {},
   "outputs": [],
   "source": [
    "# filter for last 12 months\n",
    "value_to_check = pd.Timestamp(date.today().year-1, date.today().month, date.today().day)\n",
    "filter_mask = df['ShiftDate'] > value_to_check\n",
    "df = df[filter_mask]"
   ]
  },
  {
   "cell_type": "code",
   "execution_count": 6,
   "metadata": {},
   "outputs": [],
   "source": [
    "# create df with FLEX DAYS only with a filter\n",
    "filter_mask = df['ShowTitle'] == 'FLEX DAY'\n",
    "df = df[filter_mask]"
   ]
  },
  {
   "cell_type": "code",
   "execution_count": 7,
   "metadata": {},
   "outputs": [],
   "source": [
    "# turn the datetime64 object into a string object for manipultaion\n",
    "df['Date_String'] = df['ShiftDate'].dt.strftime('%Y-%m-%d')"
   ]
  },
  {
   "cell_type": "code",
   "execution_count": 8,
   "metadata": {},
   "outputs": [],
   "source": [
    "# create the fiscal info from the new string object\n",
    "df['Fiscal Year'] = df.Date_String.apply(dbfnc.fiscal_yr)\n",
    "df['Fiscal Quarter'] = df.Date_String.apply(dbfnc.fiscal_q)"
   ]
  },
  {
   "cell_type": "code",
   "execution_count": 9,
   "metadata": {},
   "outputs": [],
   "source": [
    "# sort for presentation\n",
    "df.sort_values(by='FirstName', inplace=True)\n",
    "sort_list = ['Fiscal Year', 'Fiscal Quarter']\n",
    "df.sort_values(by=sort_list, ascending=False, inplace=True)"
   ]
  },
  {
   "cell_type": "code",
   "execution_count": 10,
   "metadata": {},
   "outputs": [],
   "source": [
    "#create the new df removing uneeded column data\n",
    "df = df[['Fiscal Year', 'Fiscal Quarter', 'FirstName', 'ShiftDate']].copy()"
   ]
  },
  {
   "cell_type": "code",
   "execution_count": 11,
   "metadata": {},
   "outputs": [
    {
     "data": {
      "text/html": [
       "<style  type=\"text/css\" >\n",
       "    #T_d13fd0a7_8b5a_11eb_ad81_480fcf6695dfrow0_col0 {\n",
       "            text-align:  center;\n",
       "        }    #T_d13fd0a7_8b5a_11eb_ad81_480fcf6695dfrow0_col1 {\n",
       "            text-align:  center;\n",
       "        }    #T_d13fd0a7_8b5a_11eb_ad81_480fcf6695dfrow0_col2 {\n",
       "            text-align:  center;\n",
       "        }    #T_d13fd0a7_8b5a_11eb_ad81_480fcf6695dfrow0_col3 {\n",
       "            text-align:  center;\n",
       "        }    #T_d13fd0a7_8b5a_11eb_ad81_480fcf6695dfrow1_col0 {\n",
       "            text-align:  center;\n",
       "        }    #T_d13fd0a7_8b5a_11eb_ad81_480fcf6695dfrow1_col1 {\n",
       "            text-align:  center;\n",
       "        }    #T_d13fd0a7_8b5a_11eb_ad81_480fcf6695dfrow1_col2 {\n",
       "            text-align:  center;\n",
       "        }    #T_d13fd0a7_8b5a_11eb_ad81_480fcf6695dfrow1_col3 {\n",
       "            text-align:  center;\n",
       "        }    #T_d13fd0a7_8b5a_11eb_ad81_480fcf6695dfrow2_col0 {\n",
       "            text-align:  center;\n",
       "        }    #T_d13fd0a7_8b5a_11eb_ad81_480fcf6695dfrow2_col1 {\n",
       "            text-align:  center;\n",
       "        }    #T_d13fd0a7_8b5a_11eb_ad81_480fcf6695dfrow2_col2 {\n",
       "            text-align:  center;\n",
       "        }    #T_d13fd0a7_8b5a_11eb_ad81_480fcf6695dfrow2_col3 {\n",
       "            text-align:  center;\n",
       "        }    #T_d13fd0a7_8b5a_11eb_ad81_480fcf6695dfrow3_col0 {\n",
       "            text-align:  center;\n",
       "        }    #T_d13fd0a7_8b5a_11eb_ad81_480fcf6695dfrow3_col1 {\n",
       "            text-align:  center;\n",
       "        }    #T_d13fd0a7_8b5a_11eb_ad81_480fcf6695dfrow3_col2 {\n",
       "            text-align:  center;\n",
       "        }    #T_d13fd0a7_8b5a_11eb_ad81_480fcf6695dfrow3_col3 {\n",
       "            text-align:  center;\n",
       "        }    #T_d13fd0a7_8b5a_11eb_ad81_480fcf6695dfrow4_col0 {\n",
       "            text-align:  center;\n",
       "        }    #T_d13fd0a7_8b5a_11eb_ad81_480fcf6695dfrow4_col1 {\n",
       "            text-align:  center;\n",
       "        }    #T_d13fd0a7_8b5a_11eb_ad81_480fcf6695dfrow4_col2 {\n",
       "            text-align:  center;\n",
       "        }    #T_d13fd0a7_8b5a_11eb_ad81_480fcf6695dfrow4_col3 {\n",
       "            text-align:  center;\n",
       "        }    #T_d13fd0a7_8b5a_11eb_ad81_480fcf6695dfrow5_col0 {\n",
       "            text-align:  center;\n",
       "        }    #T_d13fd0a7_8b5a_11eb_ad81_480fcf6695dfrow5_col1 {\n",
       "            text-align:  center;\n",
       "        }    #T_d13fd0a7_8b5a_11eb_ad81_480fcf6695dfrow5_col2 {\n",
       "            text-align:  center;\n",
       "        }    #T_d13fd0a7_8b5a_11eb_ad81_480fcf6695dfrow5_col3 {\n",
       "            text-align:  center;\n",
       "        }    #T_d13fd0a7_8b5a_11eb_ad81_480fcf6695dfrow6_col0 {\n",
       "            text-align:  center;\n",
       "        }    #T_d13fd0a7_8b5a_11eb_ad81_480fcf6695dfrow6_col1 {\n",
       "            text-align:  center;\n",
       "        }    #T_d13fd0a7_8b5a_11eb_ad81_480fcf6695dfrow6_col2 {\n",
       "            text-align:  center;\n",
       "        }    #T_d13fd0a7_8b5a_11eb_ad81_480fcf6695dfrow6_col3 {\n",
       "            text-align:  center;\n",
       "        }    #T_d13fd0a7_8b5a_11eb_ad81_480fcf6695dfrow7_col0 {\n",
       "            text-align:  center;\n",
       "        }    #T_d13fd0a7_8b5a_11eb_ad81_480fcf6695dfrow7_col1 {\n",
       "            text-align:  center;\n",
       "        }    #T_d13fd0a7_8b5a_11eb_ad81_480fcf6695dfrow7_col2 {\n",
       "            text-align:  center;\n",
       "        }    #T_d13fd0a7_8b5a_11eb_ad81_480fcf6695dfrow7_col3 {\n",
       "            text-align:  center;\n",
       "        }    #T_d13fd0a7_8b5a_11eb_ad81_480fcf6695dfrow8_col0 {\n",
       "            text-align:  center;\n",
       "        }    #T_d13fd0a7_8b5a_11eb_ad81_480fcf6695dfrow8_col1 {\n",
       "            text-align:  center;\n",
       "        }    #T_d13fd0a7_8b5a_11eb_ad81_480fcf6695dfrow8_col2 {\n",
       "            text-align:  center;\n",
       "        }    #T_d13fd0a7_8b5a_11eb_ad81_480fcf6695dfrow8_col3 {\n",
       "            text-align:  center;\n",
       "        }    #T_d13fd0a7_8b5a_11eb_ad81_480fcf6695dfrow9_col0 {\n",
       "            text-align:  center;\n",
       "        }    #T_d13fd0a7_8b5a_11eb_ad81_480fcf6695dfrow9_col1 {\n",
       "            text-align:  center;\n",
       "        }    #T_d13fd0a7_8b5a_11eb_ad81_480fcf6695dfrow9_col2 {\n",
       "            text-align:  center;\n",
       "        }    #T_d13fd0a7_8b5a_11eb_ad81_480fcf6695dfrow9_col3 {\n",
       "            text-align:  center;\n",
       "        }    #T_d13fd0a7_8b5a_11eb_ad81_480fcf6695dfrow10_col0 {\n",
       "            text-align:  center;\n",
       "        }    #T_d13fd0a7_8b5a_11eb_ad81_480fcf6695dfrow10_col1 {\n",
       "            text-align:  center;\n",
       "        }    #T_d13fd0a7_8b5a_11eb_ad81_480fcf6695dfrow10_col2 {\n",
       "            text-align:  center;\n",
       "        }    #T_d13fd0a7_8b5a_11eb_ad81_480fcf6695dfrow10_col3 {\n",
       "            text-align:  center;\n",
       "        }    #T_d13fd0a7_8b5a_11eb_ad81_480fcf6695dfrow11_col0 {\n",
       "            text-align:  center;\n",
       "        }    #T_d13fd0a7_8b5a_11eb_ad81_480fcf6695dfrow11_col1 {\n",
       "            text-align:  center;\n",
       "        }    #T_d13fd0a7_8b5a_11eb_ad81_480fcf6695dfrow11_col2 {\n",
       "            text-align:  center;\n",
       "        }    #T_d13fd0a7_8b5a_11eb_ad81_480fcf6695dfrow11_col3 {\n",
       "            text-align:  center;\n",
       "        }    #T_d13fd0a7_8b5a_11eb_ad81_480fcf6695dfrow12_col0 {\n",
       "            text-align:  center;\n",
       "        }    #T_d13fd0a7_8b5a_11eb_ad81_480fcf6695dfrow12_col1 {\n",
       "            text-align:  center;\n",
       "        }    #T_d13fd0a7_8b5a_11eb_ad81_480fcf6695dfrow12_col2 {\n",
       "            text-align:  center;\n",
       "        }    #T_d13fd0a7_8b5a_11eb_ad81_480fcf6695dfrow12_col3 {\n",
       "            text-align:  center;\n",
       "        }    #T_d13fd0a7_8b5a_11eb_ad81_480fcf6695dfrow13_col0 {\n",
       "            text-align:  center;\n",
       "        }    #T_d13fd0a7_8b5a_11eb_ad81_480fcf6695dfrow13_col1 {\n",
       "            text-align:  center;\n",
       "        }    #T_d13fd0a7_8b5a_11eb_ad81_480fcf6695dfrow13_col2 {\n",
       "            text-align:  center;\n",
       "        }    #T_d13fd0a7_8b5a_11eb_ad81_480fcf6695dfrow13_col3 {\n",
       "            text-align:  center;\n",
       "        }    #T_d13fd0a7_8b5a_11eb_ad81_480fcf6695dfrow14_col0 {\n",
       "            text-align:  center;\n",
       "        }    #T_d13fd0a7_8b5a_11eb_ad81_480fcf6695dfrow14_col1 {\n",
       "            text-align:  center;\n",
       "        }    #T_d13fd0a7_8b5a_11eb_ad81_480fcf6695dfrow14_col2 {\n",
       "            text-align:  center;\n",
       "        }    #T_d13fd0a7_8b5a_11eb_ad81_480fcf6695dfrow14_col3 {\n",
       "            text-align:  center;\n",
       "        }    #T_d13fd0a7_8b5a_11eb_ad81_480fcf6695dfrow15_col0 {\n",
       "            text-align:  center;\n",
       "        }    #T_d13fd0a7_8b5a_11eb_ad81_480fcf6695dfrow15_col1 {\n",
       "            text-align:  center;\n",
       "        }    #T_d13fd0a7_8b5a_11eb_ad81_480fcf6695dfrow15_col2 {\n",
       "            text-align:  center;\n",
       "        }    #T_d13fd0a7_8b5a_11eb_ad81_480fcf6695dfrow15_col3 {\n",
       "            text-align:  center;\n",
       "        }</style><table id=\"T_d13fd0a7_8b5a_11eb_ad81_480fcf6695df\" ><thead>    <tr>        <th class=\"col_heading level0 col0\" >Fiscal Year</th>        <th class=\"col_heading level0 col1\" >Fiscal Quarter</th>        <th class=\"col_heading level0 col2\" >FirstName</th>        <th class=\"col_heading level0 col3\" >ShiftDate</th>    </tr></thead><tbody>\n",
       "                <tr>\n",
       "                                <td id=\"T_d13fd0a7_8b5a_11eb_ad81_480fcf6695dfrow0_col0\" class=\"data row0 col0\" >2020-2021</td>\n",
       "                        <td id=\"T_d13fd0a7_8b5a_11eb_ad81_480fcf6695dfrow0_col1\" class=\"data row0 col1\" >2</td>\n",
       "                        <td id=\"T_d13fd0a7_8b5a_11eb_ad81_480fcf6695dfrow0_col2\" class=\"data row0 col2\" >Arran</td>\n",
       "                        <td id=\"T_d13fd0a7_8b5a_11eb_ad81_480fcf6695dfrow0_col3\" class=\"data row0 col3\" >2021-02-05 00:00:00</td>\n",
       "            </tr>\n",
       "            <tr>\n",
       "                                <td id=\"T_d13fd0a7_8b5a_11eb_ad81_480fcf6695dfrow1_col0\" class=\"data row1 col0\" >2020-2021</td>\n",
       "                        <td id=\"T_d13fd0a7_8b5a_11eb_ad81_480fcf6695dfrow1_col1\" class=\"data row1 col1\" >2</td>\n",
       "                        <td id=\"T_d13fd0a7_8b5a_11eb_ad81_480fcf6695dfrow1_col2\" class=\"data row1 col2\" >David</td>\n",
       "                        <td id=\"T_d13fd0a7_8b5a_11eb_ad81_480fcf6695dfrow1_col3\" class=\"data row1 col3\" >2021-01-29 00:00:00</td>\n",
       "            </tr>\n",
       "            <tr>\n",
       "                                <td id=\"T_d13fd0a7_8b5a_11eb_ad81_480fcf6695dfrow2_col0\" class=\"data row2 col0\" >2020-2021</td>\n",
       "                        <td id=\"T_d13fd0a7_8b5a_11eb_ad81_480fcf6695dfrow2_col1\" class=\"data row2 col1\" >2</td>\n",
       "                        <td id=\"T_d13fd0a7_8b5a_11eb_ad81_480fcf6695dfrow2_col2\" class=\"data row2 col2\" >Jack</td>\n",
       "                        <td id=\"T_d13fd0a7_8b5a_11eb_ad81_480fcf6695dfrow2_col3\" class=\"data row2 col3\" >2021-01-14 00:00:00</td>\n",
       "            </tr>\n",
       "            <tr>\n",
       "                                <td id=\"T_d13fd0a7_8b5a_11eb_ad81_480fcf6695dfrow3_col0\" class=\"data row3 col0\" >2020-2021</td>\n",
       "                        <td id=\"T_d13fd0a7_8b5a_11eb_ad81_480fcf6695dfrow3_col1\" class=\"data row3 col1\" >2</td>\n",
       "                        <td id=\"T_d13fd0a7_8b5a_11eb_ad81_480fcf6695dfrow3_col2\" class=\"data row3 col2\" >Jaclyn</td>\n",
       "                        <td id=\"T_d13fd0a7_8b5a_11eb_ad81_480fcf6695dfrow3_col3\" class=\"data row3 col3\" >2020-12-11 00:00:00</td>\n",
       "            </tr>\n",
       "            <tr>\n",
       "                                <td id=\"T_d13fd0a7_8b5a_11eb_ad81_480fcf6695dfrow4_col0\" class=\"data row4 col0\" >2020-2021</td>\n",
       "                        <td id=\"T_d13fd0a7_8b5a_11eb_ad81_480fcf6695dfrow4_col1\" class=\"data row4 col1\" >2</td>\n",
       "                        <td id=\"T_d13fd0a7_8b5a_11eb_ad81_480fcf6695dfrow4_col2\" class=\"data row4 col2\" >Kris</td>\n",
       "                        <td id=\"T_d13fd0a7_8b5a_11eb_ad81_480fcf6695dfrow4_col3\" class=\"data row4 col3\" >2021-02-19 00:00:00</td>\n",
       "            </tr>\n",
       "            <tr>\n",
       "                                <td id=\"T_d13fd0a7_8b5a_11eb_ad81_480fcf6695dfrow5_col0\" class=\"data row5 col0\" >2020-2021</td>\n",
       "                        <td id=\"T_d13fd0a7_8b5a_11eb_ad81_480fcf6695dfrow5_col1\" class=\"data row5 col1\" >2</td>\n",
       "                        <td id=\"T_d13fd0a7_8b5a_11eb_ad81_480fcf6695dfrow5_col2\" class=\"data row5 col2\" >Matt</td>\n",
       "                        <td id=\"T_d13fd0a7_8b5a_11eb_ad81_480fcf6695dfrow5_col3\" class=\"data row5 col3\" >2021-02-26 00:00:00</td>\n",
       "            </tr>\n",
       "            <tr>\n",
       "                                <td id=\"T_d13fd0a7_8b5a_11eb_ad81_480fcf6695dfrow6_col0\" class=\"data row6 col0\" >2020-2021</td>\n",
       "                        <td id=\"T_d13fd0a7_8b5a_11eb_ad81_480fcf6695dfrow6_col1\" class=\"data row6 col1\" >2</td>\n",
       "                        <td id=\"T_d13fd0a7_8b5a_11eb_ad81_480fcf6695dfrow6_col2\" class=\"data row6 col2\" >Rikki</td>\n",
       "                        <td id=\"T_d13fd0a7_8b5a_11eb_ad81_480fcf6695dfrow6_col3\" class=\"data row6 col3\" >2021-02-25 00:00:00</td>\n",
       "            </tr>\n",
       "            <tr>\n",
       "                                <td id=\"T_d13fd0a7_8b5a_11eb_ad81_480fcf6695dfrow7_col0\" class=\"data row7 col0\" >2020-2021</td>\n",
       "                        <td id=\"T_d13fd0a7_8b5a_11eb_ad81_480fcf6695dfrow7_col1\" class=\"data row7 col1\" >2</td>\n",
       "                        <td id=\"T_d13fd0a7_8b5a_11eb_ad81_480fcf6695dfrow7_col2\" class=\"data row7 col2\" >Terry</td>\n",
       "                        <td id=\"T_d13fd0a7_8b5a_11eb_ad81_480fcf6695dfrow7_col3\" class=\"data row7 col3\" >2021-02-17 00:00:00</td>\n",
       "            </tr>\n",
       "            <tr>\n",
       "                                <td id=\"T_d13fd0a7_8b5a_11eb_ad81_480fcf6695dfrow8_col0\" class=\"data row8 col0\" >2020-2021</td>\n",
       "                        <td id=\"T_d13fd0a7_8b5a_11eb_ad81_480fcf6695dfrow8_col1\" class=\"data row8 col1\" >1</td>\n",
       "                        <td id=\"T_d13fd0a7_8b5a_11eb_ad81_480fcf6695dfrow8_col2\" class=\"data row8 col2\" >Arran</td>\n",
       "                        <td id=\"T_d13fd0a7_8b5a_11eb_ad81_480fcf6695dfrow8_col3\" class=\"data row8 col3\" >2020-10-16 00:00:00</td>\n",
       "            </tr>\n",
       "            <tr>\n",
       "                                <td id=\"T_d13fd0a7_8b5a_11eb_ad81_480fcf6695dfrow9_col0\" class=\"data row9 col0\" >2020-2021</td>\n",
       "                        <td id=\"T_d13fd0a7_8b5a_11eb_ad81_480fcf6695dfrow9_col1\" class=\"data row9 col1\" >1</td>\n",
       "                        <td id=\"T_d13fd0a7_8b5a_11eb_ad81_480fcf6695dfrow9_col2\" class=\"data row9 col2\" >David</td>\n",
       "                        <td id=\"T_d13fd0a7_8b5a_11eb_ad81_480fcf6695dfrow9_col3\" class=\"data row9 col3\" >2020-11-20 00:00:00</td>\n",
       "            </tr>\n",
       "            <tr>\n",
       "                                <td id=\"T_d13fd0a7_8b5a_11eb_ad81_480fcf6695dfrow10_col0\" class=\"data row10 col0\" >2020-2021</td>\n",
       "                        <td id=\"T_d13fd0a7_8b5a_11eb_ad81_480fcf6695dfrow10_col1\" class=\"data row10 col1\" >1</td>\n",
       "                        <td id=\"T_d13fd0a7_8b5a_11eb_ad81_480fcf6695dfrow10_col2\" class=\"data row10 col2\" >Jack</td>\n",
       "                        <td id=\"T_d13fd0a7_8b5a_11eb_ad81_480fcf6695dfrow10_col3\" class=\"data row10 col3\" >2020-11-20 00:00:00</td>\n",
       "            </tr>\n",
       "            <tr>\n",
       "                                <td id=\"T_d13fd0a7_8b5a_11eb_ad81_480fcf6695dfrow11_col0\" class=\"data row11 col0\" >2020-2021</td>\n",
       "                        <td id=\"T_d13fd0a7_8b5a_11eb_ad81_480fcf6695dfrow11_col1\" class=\"data row11 col1\" >1</td>\n",
       "                        <td id=\"T_d13fd0a7_8b5a_11eb_ad81_480fcf6695dfrow11_col2\" class=\"data row11 col2\" >Jaclyn</td>\n",
       "                        <td id=\"T_d13fd0a7_8b5a_11eb_ad81_480fcf6695dfrow11_col3\" class=\"data row11 col3\" >2020-11-10 00:00:00</td>\n",
       "            </tr>\n",
       "            <tr>\n",
       "                                <td id=\"T_d13fd0a7_8b5a_11eb_ad81_480fcf6695dfrow12_col0\" class=\"data row12 col0\" >2020-2021</td>\n",
       "                        <td id=\"T_d13fd0a7_8b5a_11eb_ad81_480fcf6695dfrow12_col1\" class=\"data row12 col1\" >1</td>\n",
       "                        <td id=\"T_d13fd0a7_8b5a_11eb_ad81_480fcf6695dfrow12_col2\" class=\"data row12 col2\" >Kris</td>\n",
       "                        <td id=\"T_d13fd0a7_8b5a_11eb_ad81_480fcf6695dfrow12_col3\" class=\"data row12 col3\" >2020-11-27 00:00:00</td>\n",
       "            </tr>\n",
       "            <tr>\n",
       "                                <td id=\"T_d13fd0a7_8b5a_11eb_ad81_480fcf6695dfrow13_col0\" class=\"data row13 col0\" >2020-2021</td>\n",
       "                        <td id=\"T_d13fd0a7_8b5a_11eb_ad81_480fcf6695dfrow13_col1\" class=\"data row13 col1\" >1</td>\n",
       "                        <td id=\"T_d13fd0a7_8b5a_11eb_ad81_480fcf6695dfrow13_col2\" class=\"data row13 col2\" >Matt</td>\n",
       "                        <td id=\"T_d13fd0a7_8b5a_11eb_ad81_480fcf6695dfrow13_col3\" class=\"data row13 col3\" >2020-11-02 00:00:00</td>\n",
       "            </tr>\n",
       "            <tr>\n",
       "                                <td id=\"T_d13fd0a7_8b5a_11eb_ad81_480fcf6695dfrow14_col0\" class=\"data row14 col0\" >2020-2021</td>\n",
       "                        <td id=\"T_d13fd0a7_8b5a_11eb_ad81_480fcf6695dfrow14_col1\" class=\"data row14 col1\" >1</td>\n",
       "                        <td id=\"T_d13fd0a7_8b5a_11eb_ad81_480fcf6695dfrow14_col2\" class=\"data row14 col2\" >Rikki</td>\n",
       "                        <td id=\"T_d13fd0a7_8b5a_11eb_ad81_480fcf6695dfrow14_col3\" class=\"data row14 col3\" >2020-11-09 00:00:00</td>\n",
       "            </tr>\n",
       "            <tr>\n",
       "                                <td id=\"T_d13fd0a7_8b5a_11eb_ad81_480fcf6695dfrow15_col0\" class=\"data row15 col0\" >2020-2021</td>\n",
       "                        <td id=\"T_d13fd0a7_8b5a_11eb_ad81_480fcf6695dfrow15_col1\" class=\"data row15 col1\" >1</td>\n",
       "                        <td id=\"T_d13fd0a7_8b5a_11eb_ad81_480fcf6695dfrow15_col2\" class=\"data row15 col2\" >Terry</td>\n",
       "                        <td id=\"T_d13fd0a7_8b5a_11eb_ad81_480fcf6695dfrow15_col3\" class=\"data row15 col3\" >2020-09-25 00:00:00</td>\n",
       "            </tr>\n",
       "    </tbody></table>"
      ],
      "text/plain": [
       "<pandas.io.formats.style.Styler at 0x1a0a6858a90>"
      ]
     },
     "execution_count": 11,
     "metadata": {},
     "output_type": "execute_result"
    }
   ],
   "source": [
    "#.. and style for preentation\n",
    "df.style.set_properties(**{'text-align':'center'}).hide_index()"
   ]
  },
  {
   "cell_type": "markdown",
   "metadata": {},
   "source": [
    "---"
   ]
  },
  {
   "cell_type": "markdown",
   "metadata": {},
   "source": [
    "## TOIL Payouts to Heads - Current Fiscal Year"
   ]
  },
  {
   "cell_type": "code",
   "execution_count": 12,
   "metadata": {},
   "outputs": [],
   "source": [
    "# grab data from the db and input it to a df\n",
    "# the query is HeadworkedTable joined with ShowTable joined with HeadNamesTable filtered on ShowName 'FLEX DAY'\n",
    "sql_file=open(f'{cfg.sql_dir}\\TOIL_payouts.sql')\n",
    "query = sql_file.read()\n",
    "\n",
    "with dbfnc.connection(cfg.my_driver, cfg.my_server, cfg.my_db) as conn:\n",
    "    df = pd.read_sql(query, conn)"
   ]
  },
  {
   "cell_type": "code",
   "execution_count": 13,
   "metadata": {},
   "outputs": [],
   "source": [
    "# turn the datetime64 object into a string object for manipultaion\n",
    "df['Date_String'] = df['PayoutDate'].dt.strftime('%Y-%m-%d')"
   ]
  },
  {
   "cell_type": "code",
   "execution_count": 14,
   "metadata": {},
   "outputs": [],
   "source": [
    "# filter for current fiscal year only\n",
    "filter_mask = df.Date_String.apply(dbfnc.current_fiscal) \n",
    "df = df[filter_mask]"
   ]
  },
  {
   "cell_type": "code",
   "execution_count": 15,
   "metadata": {},
   "outputs": [],
   "source": [
    "# sum and group each heads hours. "
   ]
  },
  {
   "cell_type": "code",
   "execution_count": 16,
   "metadata": {},
   "outputs": [],
   "source": [
    "# create the new df removing uneeded column data\n",
    "df = df[['FirstName', 'PayoutinHrs']].copy()"
   ]
  },
  {
   "cell_type": "code",
   "execution_count": 17,
   "metadata": {},
   "outputs": [
    {
     "data": {
      "text/html": [
       "<style  type=\"text/css\" >\n",
       "    #T_d14ac56f_8b5a_11eb_ad35_480fcf6695dfrow0_col0 {\n",
       "            text-align:  center;\n",
       "        }    #T_d14ac56f_8b5a_11eb_ad35_480fcf6695dfrow0_col1 {\n",
       "            text-align:  center;\n",
       "        }    #T_d14ac56f_8b5a_11eb_ad35_480fcf6695dfrow1_col0 {\n",
       "            text-align:  center;\n",
       "        }    #T_d14ac56f_8b5a_11eb_ad35_480fcf6695dfrow1_col1 {\n",
       "            text-align:  center;\n",
       "        }</style><table id=\"T_d14ac56f_8b5a_11eb_ad35_480fcf6695df\" ><thead>    <tr>        <th class=\"col_heading level0 col0\" >FirstName</th>        <th class=\"col_heading level0 col1\" >PayoutinHrs</th>    </tr></thead><tbody>\n",
       "                <tr>\n",
       "                                <td id=\"T_d14ac56f_8b5a_11eb_ad35_480fcf6695dfrow0_col0\" class=\"data row0 col0\" >Arran</td>\n",
       "                        <td id=\"T_d14ac56f_8b5a_11eb_ad35_480fcf6695dfrow0_col1\" class=\"data row0 col1\" >0.250000</td>\n",
       "            </tr>\n",
       "            <tr>\n",
       "                                <td id=\"T_d14ac56f_8b5a_11eb_ad35_480fcf6695dfrow1_col0\" class=\"data row1 col0\" >Jaclyn</td>\n",
       "                        <td id=\"T_d14ac56f_8b5a_11eb_ad35_480fcf6695dfrow1_col1\" class=\"data row1 col1\" >0.400000</td>\n",
       "            </tr>\n",
       "    </tbody></table>"
      ],
      "text/plain": [
       "<pandas.io.formats.style.Styler at 0x1a0a72e62e0>"
      ]
     },
     "execution_count": 17,
     "metadata": {},
     "output_type": "execute_result"
    }
   ],
   "source": [
    "#.. and style for preentation\n",
    "df.style.set_properties(**{'text-align':'center'}).hide_index()"
   ]
  },
  {
   "cell_type": "markdown",
   "metadata": {},
   "source": [
    "---"
   ]
  },
  {
   "cell_type": "markdown",
   "metadata": {},
   "source": [
    "# Head Salaried Hours Worked by Account Code - Current Fiscal Year"
   ]
  },
  {
   "cell_type": "code",
   "execution_count": 18,
   "metadata": {},
   "outputs": [],
   "source": [
    "# grab data from the db and input it to a df\n",
    "# the query is HeadworkedTable joined with ShowTable joined with HeadNamesTable filtered on ShowName 'FLEX DAY'\n",
    "sql_file=open(f'{cfg.sql_dir}\\head_hours_worked.sql')\n",
    "query = sql_file.read()\n",
    "\n",
    "with dbfnc.connection(cfg.my_driver, cfg.my_server, cfg.my_db) as conn:\n",
    "    df = pd.read_sql(query, conn)"
   ]
  },
  {
   "cell_type": "code",
   "execution_count": 19,
   "metadata": {},
   "outputs": [],
   "source": [
    "# turn the datetime64 object into a string object for manipultaion\n",
    "df['Date_String'] = df['ShiftDate'].dt.strftime('%Y-%m-%d')"
   ]
  },
  {
   "cell_type": "code",
   "execution_count": 20,
   "metadata": {},
   "outputs": [],
   "source": [
    "# filter for current fiscal year only\n",
    "filter_mask = df.Date_String.apply(dbfnc.current_fiscal) \n",
    "df = df[filter_mask]"
   ]
  },
  {
   "cell_type": "code",
   "execution_count": 21,
   "metadata": {},
   "outputs": [],
   "source": [
    "# Overtime conversions\n",
    "df['OT_convert'] = df.OverTimeHours.apply(lambda x:x*1.5)\n",
    "df['DT_convert'] = df.DoubleTimeHours.apply(lambda x:x*2)"
   ]
  },
  {
   "cell_type": "code",
   "execution_count": 22,
   "metadata": {},
   "outputs": [],
   "source": [
    "# Combine all hours\n",
    "sum_cols =['RegTimeHours', 'OT_convert', 'DT_convert']\n",
    "df['all_hrs'] = df[sum_cols].sum(axis=1)"
   ]
  },
  {
   "cell_type": "code",
   "execution_count": 23,
   "metadata": {},
   "outputs": [],
   "source": [
    "#create percent column\n",
    "df['percent'] = (df['all_hrs'] / df['all_hrs'].sum()) * 100\n",
    "df.percent = df.percent.round(2)"
   ]
  },
  {
   "cell_type": "markdown",
   "metadata": {},
   "source": [
    "#### Hours Worked - All"
   ]
  },
  {
   "cell_type": "code",
   "execution_count": 24,
   "metadata": {},
   "outputs": [],
   "source": [
    "# create the new df removing uneeded column data\n",
    "df_all = df[['AccountCodeID', 'Note', 'all_hrs', 'percent']].copy()"
   ]
  },
  {
   "cell_type": "code",
   "execution_count": 25,
   "metadata": {},
   "outputs": [
    {
     "data": {
      "text/html": [
       "<div>\n",
       "<style scoped>\n",
       "    .dataframe tbody tr th:only-of-type {\n",
       "        vertical-align: middle;\n",
       "    }\n",
       "\n",
       "    .dataframe tbody tr th {\n",
       "        vertical-align: top;\n",
       "    }\n",
       "\n",
       "    .dataframe thead th {\n",
       "        text-align: right;\n",
       "    }\n",
       "</style>\n",
       "<table border=\"1\" class=\"dataframe\">\n",
       "  <thead>\n",
       "    <tr style=\"text-align: right;\">\n",
       "      <th></th>\n",
       "      <th></th>\n",
       "      <th>all_hrs</th>\n",
       "      <th>percent</th>\n",
       "    </tr>\n",
       "    <tr>\n",
       "      <th>AccountCodeID</th>\n",
       "      <th>Note</th>\n",
       "      <th></th>\n",
       "      <th></th>\n",
       "    </tr>\n",
       "  </thead>\n",
       "  <tbody>\n",
       "    <tr>\n",
       "      <th>6210-50-504</th>\n",
       "      <th>Jack Singer Salaried Billable</th>\n",
       "      <td>67.50</td>\n",
       "      <td>0.82</td>\n",
       "    </tr>\n",
       "    <tr>\n",
       "      <th>7290-50-504</th>\n",
       "      <th>LX Maintenance</th>\n",
       "      <td>61.50</td>\n",
       "      <td>0.76</td>\n",
       "    </tr>\n",
       "    <tr>\n",
       "      <th>7420-20-204</th>\n",
       "      <th>Snd Res Co</th>\n",
       "      <td>1.50</td>\n",
       "      <td>0.02</td>\n",
       "    </tr>\n",
       "    <tr>\n",
       "      <th>7430-50-504</th>\n",
       "      <th>Sound Maintenance</th>\n",
       "      <td>152.50</td>\n",
       "      <td>1.86</td>\n",
       "    </tr>\n",
       "    <tr>\n",
       "      <th>7470-20-204</th>\n",
       "      <th>Stg Res Co</th>\n",
       "      <td>10.50</td>\n",
       "      <td>0.12</td>\n",
       "    </tr>\n",
       "    <tr>\n",
       "      <th>7480-50-504</th>\n",
       "      <th>Stage Maintenance</th>\n",
       "      <td>675.75</td>\n",
       "      <td>8.22</td>\n",
       "    </tr>\n",
       "    <tr>\n",
       "      <th>8430-50-504</th>\n",
       "      <th>Salaried Admin</th>\n",
       "      <td>3677.00</td>\n",
       "      <td>45.09</td>\n",
       "    </tr>\n",
       "    <tr>\n",
       "      <th>8440-20-203</th>\n",
       "      <th>Lance Labour</th>\n",
       "      <td>9.00</td>\n",
       "      <td>0.10</td>\n",
       "    </tr>\n",
       "    <tr>\n",
       "      <th>8455-50-504</th>\n",
       "      <th>Vacation/Holiday/Flex/Sick</th>\n",
       "      <td>1011.00</td>\n",
       "      <td>12.60</td>\n",
       "    </tr>\n",
       "    <tr>\n",
       "      <th>8870-50-504</th>\n",
       "      <th>Training</th>\n",
       "      <td>2.50</td>\n",
       "      <td>0.03</td>\n",
       "    </tr>\n",
       "    <tr>\n",
       "      <th>9999-99-999</th>\n",
       "      <th>OFF BUDGET</th>\n",
       "      <td>0.75</td>\n",
       "      <td>0.01</td>\n",
       "    </tr>\n",
       "    <tr>\n",
       "      <th>CRF</th>\n",
       "      <th>Capital replacement</th>\n",
       "      <td>2588.50</td>\n",
       "      <td>31.59</td>\n",
       "    </tr>\n",
       "  </tbody>\n",
       "</table>\n",
       "</div>"
      ],
      "text/plain": [
       "                                             all_hrs  percent\n",
       "AccountCodeID Note                                           \n",
       "6210-50-504   Jack Singer Salaried Billable    67.50     0.82\n",
       "7290-50-504   LX Maintenance                   61.50     0.76\n",
       "7420-20-204   Snd Res Co                        1.50     0.02\n",
       "7430-50-504   Sound Maintenance               152.50     1.86\n",
       "7470-20-204   Stg Res Co                       10.50     0.12\n",
       "7480-50-504   Stage Maintenance               675.75     8.22\n",
       "8430-50-504   Salaried Admin                 3677.00    45.09\n",
       "8440-20-203   Lance Labour                      9.00     0.10\n",
       "8455-50-504   Vacation/Holiday/Flex/Sick     1011.00    12.60\n",
       "8870-50-504   Training                          2.50     0.03\n",
       "9999-99-999   OFF BUDGET                        0.75     0.01\n",
       "CRF           Capital replacement            2588.50    31.59"
      ]
     },
     "execution_count": 25,
     "metadata": {},
     "output_type": "execute_result"
    }
   ],
   "source": [
    "# sum and present the data\n",
    "df_all.groupby(['AccountCodeID', 'Note']).sum()"
   ]
  },
  {
   "cell_type": "markdown",
   "metadata": {},
   "source": [
    "---"
   ]
  },
  {
   "cell_type": "code",
   "execution_count": 26,
   "metadata": {},
   "outputs": [],
   "source": [
    "# kill the SettingWithCopy Warning\n",
    "pd.options.mode.chained_assignment = None  # default='warn'"
   ]
  },
  {
   "cell_type": "markdown",
   "metadata": {},
   "source": [
    "#### Hours Worked - Arran Fisher"
   ]
  },
  {
   "cell_type": "code",
   "execution_count": 27,
   "metadata": {},
   "outputs": [],
   "source": [
    "# filter for Arran\n",
    "filter_mask = df['FirstName'] == \"Arran\"\n",
    "df_af = df[filter_mask]"
   ]
  },
  {
   "cell_type": "code",
   "execution_count": 28,
   "metadata": {},
   "outputs": [],
   "source": [
    "#create percent column\n",
    "df_af['percent'] = (df_af['all_hrs'] / df_af['all_hrs'].sum()) * 100\n",
    "df_af.percent = df_af.percent.round(2)"
   ]
  },
  {
   "cell_type": "code",
   "execution_count": 29,
   "metadata": {},
   "outputs": [],
   "source": [
    "# create the new df removing uneeded column data\n",
    "df_af = df_af[['AccountCodeID', 'Note', 'all_hrs', 'percent']].copy()"
   ]
  },
  {
   "cell_type": "code",
   "execution_count": 30,
   "metadata": {},
   "outputs": [
    {
     "data": {
      "text/html": [
       "<div>\n",
       "<style scoped>\n",
       "    .dataframe tbody tr th:only-of-type {\n",
       "        vertical-align: middle;\n",
       "    }\n",
       "\n",
       "    .dataframe tbody tr th {\n",
       "        vertical-align: top;\n",
       "    }\n",
       "\n",
       "    .dataframe thead th {\n",
       "        text-align: right;\n",
       "    }\n",
       "</style>\n",
       "<table border=\"1\" class=\"dataframe\">\n",
       "  <thead>\n",
       "    <tr style=\"text-align: right;\">\n",
       "      <th></th>\n",
       "      <th></th>\n",
       "      <th>all_hrs</th>\n",
       "      <th>percent</th>\n",
       "    </tr>\n",
       "    <tr>\n",
       "      <th>AccountCodeID</th>\n",
       "      <th>Note</th>\n",
       "      <th></th>\n",
       "      <th></th>\n",
       "    </tr>\n",
       "  </thead>\n",
       "  <tbody>\n",
       "    <tr>\n",
       "      <th>6210-50-504</th>\n",
       "      <th>Jack Singer Salaried Billable</th>\n",
       "      <td>12.5</td>\n",
       "      <td>1.20</td>\n",
       "    </tr>\n",
       "    <tr>\n",
       "      <th>7290-50-504</th>\n",
       "      <th>LX Maintenance</th>\n",
       "      <td>13.5</td>\n",
       "      <td>1.32</td>\n",
       "    </tr>\n",
       "    <tr>\n",
       "      <th>7430-50-504</th>\n",
       "      <th>Sound Maintenance</th>\n",
       "      <td>6.0</td>\n",
       "      <td>0.58</td>\n",
       "    </tr>\n",
       "    <tr>\n",
       "      <th>8430-50-504</th>\n",
       "      <th>Salaried Admin</th>\n",
       "      <td>871.0</td>\n",
       "      <td>84.89</td>\n",
       "    </tr>\n",
       "    <tr>\n",
       "      <th>8455-50-504</th>\n",
       "      <th>Vacation/Holiday/Flex/Sick</th>\n",
       "      <td>129.0</td>\n",
       "      <td>12.60</td>\n",
       "    </tr>\n",
       "  </tbody>\n",
       "</table>\n",
       "</div>"
      ],
      "text/plain": [
       "                                             all_hrs  percent\n",
       "AccountCodeID Note                                           \n",
       "6210-50-504   Jack Singer Salaried Billable     12.5     1.20\n",
       "7290-50-504   LX Maintenance                    13.5     1.32\n",
       "7430-50-504   Sound Maintenance                  6.0     0.58\n",
       "8430-50-504   Salaried Admin                   871.0    84.89\n",
       "8455-50-504   Vacation/Holiday/Flex/Sick       129.0    12.60"
      ]
     },
     "execution_count": 30,
     "metadata": {},
     "output_type": "execute_result"
    }
   ],
   "source": [
    "# sum and present the data\n",
    "df_af.groupby(['AccountCodeID', 'Note']).sum()"
   ]
  },
  {
   "cell_type": "markdown",
   "metadata": {},
   "source": [
    "---"
   ]
  },
  {
   "cell_type": "markdown",
   "metadata": {},
   "source": [
    "#### Hours Worked - Jack Jamieson"
   ]
  },
  {
   "cell_type": "code",
   "execution_count": 31,
   "metadata": {},
   "outputs": [],
   "source": [
    "# filter for Jack\n",
    "filter_mask = df['FirstName'] == \"Jack\"\n",
    "df_jj = df[filter_mask]"
   ]
  },
  {
   "cell_type": "code",
   "execution_count": 32,
   "metadata": {},
   "outputs": [],
   "source": [
    "#create percent column\n",
    "df_jj['percent'] = (df_jj['all_hrs'] / df_jj['all_hrs'].sum()) * 100\n",
    "df_jj.percent = df_jj.percent.round(2)"
   ]
  },
  {
   "cell_type": "code",
   "execution_count": 33,
   "metadata": {},
   "outputs": [],
   "source": [
    "# create the new df removing uneeded column data\n",
    "df_jj = df_jj[['AccountCodeID', 'Note', 'all_hrs', 'percent']].copy()"
   ]
  },
  {
   "cell_type": "code",
   "execution_count": 34,
   "metadata": {},
   "outputs": [
    {
     "data": {
      "text/html": [
       "<div>\n",
       "<style scoped>\n",
       "    .dataframe tbody tr th:only-of-type {\n",
       "        vertical-align: middle;\n",
       "    }\n",
       "\n",
       "    .dataframe tbody tr th {\n",
       "        vertical-align: top;\n",
       "    }\n",
       "\n",
       "    .dataframe thead th {\n",
       "        text-align: right;\n",
       "    }\n",
       "</style>\n",
       "<table border=\"1\" class=\"dataframe\">\n",
       "  <thead>\n",
       "    <tr style=\"text-align: right;\">\n",
       "      <th></th>\n",
       "      <th></th>\n",
       "      <th>all_hrs</th>\n",
       "      <th>percent</th>\n",
       "    </tr>\n",
       "    <tr>\n",
       "      <th>AccountCodeID</th>\n",
       "      <th>Note</th>\n",
       "      <th></th>\n",
       "      <th></th>\n",
       "    </tr>\n",
       "  </thead>\n",
       "  <tbody>\n",
       "    <tr>\n",
       "      <th>6210-50-504</th>\n",
       "      <th>Jack Singer Salaried Billable</th>\n",
       "      <td>14.0</td>\n",
       "      <td>1.35</td>\n",
       "    </tr>\n",
       "    <tr>\n",
       "      <th>7420-20-204</th>\n",
       "      <th>Snd Res Co</th>\n",
       "      <td>1.5</td>\n",
       "      <td>0.15</td>\n",
       "    </tr>\n",
       "    <tr>\n",
       "      <th>7430-50-504</th>\n",
       "      <th>Sound Maintenance</th>\n",
       "      <td>58.5</td>\n",
       "      <td>5.67</td>\n",
       "    </tr>\n",
       "    <tr>\n",
       "      <th>8430-50-504</th>\n",
       "      <th>Salaried Admin</th>\n",
       "      <td>30.0</td>\n",
       "      <td>2.89</td>\n",
       "    </tr>\n",
       "    <tr>\n",
       "      <th>8455-50-504</th>\n",
       "      <th>Vacation/Holiday/Flex/Sick</th>\n",
       "      <td>112.0</td>\n",
       "      <td>10.79</td>\n",
       "    </tr>\n",
       "    <tr>\n",
       "      <th>CRF</th>\n",
       "      <th>Capital replacement</th>\n",
       "      <td>819.5</td>\n",
       "      <td>79.28</td>\n",
       "    </tr>\n",
       "  </tbody>\n",
       "</table>\n",
       "</div>"
      ],
      "text/plain": [
       "                                             all_hrs  percent\n",
       "AccountCodeID Note                                           \n",
       "6210-50-504   Jack Singer Salaried Billable     14.0     1.35\n",
       "7420-20-204   Snd Res Co                         1.5     0.15\n",
       "7430-50-504   Sound Maintenance                 58.5     5.67\n",
       "8430-50-504   Salaried Admin                    30.0     2.89\n",
       "8455-50-504   Vacation/Holiday/Flex/Sick       112.0    10.79\n",
       "CRF           Capital replacement              819.5    79.28"
      ]
     },
     "execution_count": 34,
     "metadata": {},
     "output_type": "execute_result"
    }
   ],
   "source": [
    "# sum and present the data\n",
    "df_jj.groupby(['AccountCodeID', 'Note']).sum()"
   ]
  },
  {
   "cell_type": "markdown",
   "metadata": {},
   "source": [
    "---"
   ]
  },
  {
   "cell_type": "markdown",
   "metadata": {},
   "source": [
    "#### Hours Worked - Jaclyn Gowie"
   ]
  },
  {
   "cell_type": "code",
   "execution_count": 35,
   "metadata": {},
   "outputs": [],
   "source": [
    "# filter for Jaclyn\n",
    "filter_mask = df['FirstName'] == \"Jaclyn\"\n",
    "df_jg = df[filter_mask]"
   ]
  },
  {
   "cell_type": "code",
   "execution_count": 36,
   "metadata": {},
   "outputs": [],
   "source": [
    "#create percent column\n",
    "df_jg['percent'] = (df_jg['all_hrs'] / df_jg['all_hrs'].sum()) * 100\n",
    "df_jg.percent = df_jg.percent.round(2)"
   ]
  },
  {
   "cell_type": "code",
   "execution_count": 37,
   "metadata": {},
   "outputs": [],
   "source": [
    "# create the new df removing uneeded column data\n",
    "df_jg  = df_jg [['AccountCodeID', 'Note', 'all_hrs', 'percent']].copy()"
   ]
  },
  {
   "cell_type": "code",
   "execution_count": 38,
   "metadata": {},
   "outputs": [
    {
     "data": {
      "text/html": [
       "<div>\n",
       "<style scoped>\n",
       "    .dataframe tbody tr th:only-of-type {\n",
       "        vertical-align: middle;\n",
       "    }\n",
       "\n",
       "    .dataframe tbody tr th {\n",
       "        vertical-align: top;\n",
       "    }\n",
       "\n",
       "    .dataframe thead th {\n",
       "        text-align: right;\n",
       "    }\n",
       "</style>\n",
       "<table border=\"1\" class=\"dataframe\">\n",
       "  <thead>\n",
       "    <tr style=\"text-align: right;\">\n",
       "      <th></th>\n",
       "      <th></th>\n",
       "      <th>all_hrs</th>\n",
       "      <th>percent</th>\n",
       "    </tr>\n",
       "    <tr>\n",
       "      <th>AccountCodeID</th>\n",
       "      <th>Note</th>\n",
       "      <th></th>\n",
       "      <th></th>\n",
       "    </tr>\n",
       "  </thead>\n",
       "  <tbody>\n",
       "    <tr>\n",
       "      <th>6210-50-504</th>\n",
       "      <th>Jack Singer Salaried Billable</th>\n",
       "      <td>14.0</td>\n",
       "      <td>1.37</td>\n",
       "    </tr>\n",
       "    <tr>\n",
       "      <th>7470-20-204</th>\n",
       "      <th>Stg Res Co</th>\n",
       "      <td>3.5</td>\n",
       "      <td>0.34</td>\n",
       "    </tr>\n",
       "    <tr>\n",
       "      <th>7480-50-504</th>\n",
       "      <th>Stage Maintenance</th>\n",
       "      <td>257.0</td>\n",
       "      <td>24.92</td>\n",
       "    </tr>\n",
       "    <tr>\n",
       "      <th>8430-50-504</th>\n",
       "      <th>Salaried Admin</th>\n",
       "      <td>600.0</td>\n",
       "      <td>58.46</td>\n",
       "    </tr>\n",
       "    <tr>\n",
       "      <th>8455-50-504</th>\n",
       "      <th>Vacation/Holiday/Flex/Sick</th>\n",
       "      <td>105.0</td>\n",
       "      <td>10.23</td>\n",
       "    </tr>\n",
       "    <tr>\n",
       "      <th>8870-50-504</th>\n",
       "      <th>Training</th>\n",
       "      <td>2.5</td>\n",
       "      <td>0.25</td>\n",
       "    </tr>\n",
       "    <tr>\n",
       "      <th>CRF</th>\n",
       "      <th>Capital replacement</th>\n",
       "      <td>50.0</td>\n",
       "      <td>4.86</td>\n",
       "    </tr>\n",
       "  </tbody>\n",
       "</table>\n",
       "</div>"
      ],
      "text/plain": [
       "                                             all_hrs  percent\n",
       "AccountCodeID Note                                           \n",
       "6210-50-504   Jack Singer Salaried Billable     14.0     1.37\n",
       "7470-20-204   Stg Res Co                         3.5     0.34\n",
       "7480-50-504   Stage Maintenance                257.0    24.92\n",
       "8430-50-504   Salaried Admin                   600.0    58.46\n",
       "8455-50-504   Vacation/Holiday/Flex/Sick       105.0    10.23\n",
       "8870-50-504   Training                           2.5     0.25\n",
       "CRF           Capital replacement               50.0     4.86"
      ]
     },
     "execution_count": 38,
     "metadata": {},
     "output_type": "execute_result"
    }
   ],
   "source": [
    "# sum and present the data\n",
    "df_jg.groupby(['AccountCodeID', 'Note']).sum()"
   ]
  },
  {
   "cell_type": "markdown",
   "metadata": {},
   "source": [
    "---"
   ]
  },
  {
   "cell_type": "markdown",
   "metadata": {},
   "source": [
    "#### Hours Worked - Kris Ladd"
   ]
  },
  {
   "cell_type": "code",
   "execution_count": 39,
   "metadata": {},
   "outputs": [],
   "source": [
    "# filter for Kris\n",
    "filter_mask = df['FirstName'] == \"Kris\"\n",
    "df_kl = df[filter_mask]"
   ]
  },
  {
   "cell_type": "code",
   "execution_count": 40,
   "metadata": {},
   "outputs": [],
   "source": [
    "#create percent column\n",
    "df_kl['percent'] = (df_kl['all_hrs'] / df_kl['all_hrs'].sum()) * 100\n",
    "df_kl.percent = df_kl.percent.round(2)"
   ]
  },
  {
   "cell_type": "code",
   "execution_count": 41,
   "metadata": {},
   "outputs": [],
   "source": [
    "# create the new df removing uneeded column data\n",
    "df_kl= df_kl[['AccountCodeID', 'Note', 'all_hrs', 'percent']].copy()"
   ]
  },
  {
   "cell_type": "code",
   "execution_count": 42,
   "metadata": {},
   "outputs": [
    {
     "data": {
      "text/html": [
       "<div>\n",
       "<style scoped>\n",
       "    .dataframe tbody tr th:only-of-type {\n",
       "        vertical-align: middle;\n",
       "    }\n",
       "\n",
       "    .dataframe tbody tr th {\n",
       "        vertical-align: top;\n",
       "    }\n",
       "\n",
       "    .dataframe thead th {\n",
       "        text-align: right;\n",
       "    }\n",
       "</style>\n",
       "<table border=\"1\" class=\"dataframe\">\n",
       "  <thead>\n",
       "    <tr style=\"text-align: right;\">\n",
       "      <th></th>\n",
       "      <th></th>\n",
       "      <th>all_hrs</th>\n",
       "      <th>percent</th>\n",
       "    </tr>\n",
       "    <tr>\n",
       "      <th>AccountCodeID</th>\n",
       "      <th>Note</th>\n",
       "      <th></th>\n",
       "      <th></th>\n",
       "    </tr>\n",
       "  </thead>\n",
       "  <tbody>\n",
       "    <tr>\n",
       "      <th>8430-50-504</th>\n",
       "      <th>Salaried Admin</th>\n",
       "      <td>56.00</td>\n",
       "      <td>5.42</td>\n",
       "    </tr>\n",
       "    <tr>\n",
       "      <th>8455-50-504</th>\n",
       "      <th>Vacation/Holiday/Flex/Sick</th>\n",
       "      <td>100.00</td>\n",
       "      <td>9.75</td>\n",
       "    </tr>\n",
       "    <tr>\n",
       "      <th>9999-99-999</th>\n",
       "      <th>OFF BUDGET</th>\n",
       "      <td>0.75</td>\n",
       "      <td>0.07</td>\n",
       "    </tr>\n",
       "    <tr>\n",
       "      <th>CRF</th>\n",
       "      <th>Capital replacement</th>\n",
       "      <td>875.25</td>\n",
       "      <td>84.87</td>\n",
       "    </tr>\n",
       "  </tbody>\n",
       "</table>\n",
       "</div>"
      ],
      "text/plain": [
       "                                          all_hrs  percent\n",
       "AccountCodeID Note                                        \n",
       "8430-50-504   Salaried Admin                56.00     5.42\n",
       "8455-50-504   Vacation/Holiday/Flex/Sick   100.00     9.75\n",
       "9999-99-999   OFF BUDGET                     0.75     0.07\n",
       "CRF           Capital replacement          875.25    84.87"
      ]
     },
     "execution_count": 42,
     "metadata": {},
     "output_type": "execute_result"
    }
   ],
   "source": [
    "# sum and present the data\n",
    "df_kl.groupby(['AccountCodeID', 'Note']).sum()"
   ]
  },
  {
   "cell_type": "markdown",
   "metadata": {},
   "source": [
    "---"
   ]
  },
  {
   "cell_type": "markdown",
   "metadata": {},
   "source": [
    "#### Hours Worked - Matt Gilbutowicz"
   ]
  },
  {
   "cell_type": "code",
   "execution_count": 43,
   "metadata": {},
   "outputs": [],
   "source": [
    "# filter for Matt\n",
    "filter_mask = df['FirstName'] == \"Matt\"\n",
    "df_mg = df[filter_mask]"
   ]
  },
  {
   "cell_type": "code",
   "execution_count": 44,
   "metadata": {},
   "outputs": [],
   "source": [
    "#create percent column\n",
    "df_mg['percent'] = (df_mg['all_hrs'] / df_mg['all_hrs'].sum()) * 100\n",
    "df_mg.percent = df_mg.percent.round(2)"
   ]
  },
  {
   "cell_type": "code",
   "execution_count": 45,
   "metadata": {},
   "outputs": [],
   "source": [
    "# create the new df removing uneeded column data\n",
    "df_mg = df_mg[['AccountCodeID', 'Note', 'all_hrs', 'percent']].copy()"
   ]
  },
  {
   "cell_type": "code",
   "execution_count": 46,
   "metadata": {},
   "outputs": [
    {
     "data": {
      "text/html": [
       "<div>\n",
       "<style scoped>\n",
       "    .dataframe tbody tr th:only-of-type {\n",
       "        vertical-align: middle;\n",
       "    }\n",
       "\n",
       "    .dataframe tbody tr th {\n",
       "        vertical-align: top;\n",
       "    }\n",
       "\n",
       "    .dataframe thead th {\n",
       "        text-align: right;\n",
       "    }\n",
       "</style>\n",
       "<table border=\"1\" class=\"dataframe\">\n",
       "  <thead>\n",
       "    <tr style=\"text-align: right;\">\n",
       "      <th></th>\n",
       "      <th></th>\n",
       "      <th>all_hrs</th>\n",
       "      <th>percent</th>\n",
       "    </tr>\n",
       "    <tr>\n",
       "      <th>AccountCodeID</th>\n",
       "      <th>Note</th>\n",
       "      <th></th>\n",
       "      <th></th>\n",
       "    </tr>\n",
       "  </thead>\n",
       "  <tbody>\n",
       "    <tr>\n",
       "      <th>6210-50-504</th>\n",
       "      <th>Jack Singer Salaried Billable</th>\n",
       "      <td>13.0</td>\n",
       "      <td>1.25</td>\n",
       "    </tr>\n",
       "    <tr>\n",
       "      <th>7290-50-504</th>\n",
       "      <th>LX Maintenance</th>\n",
       "      <td>45.0</td>\n",
       "      <td>4.38</td>\n",
       "    </tr>\n",
       "    <tr>\n",
       "      <th>7480-50-504</th>\n",
       "      <th>Stage Maintenance</th>\n",
       "      <td>52.0</td>\n",
       "      <td>5.07</td>\n",
       "    </tr>\n",
       "    <tr>\n",
       "      <th>8430-50-504</th>\n",
       "      <th>Salaried Admin</th>\n",
       "      <td>196.5</td>\n",
       "      <td>19.12</td>\n",
       "    </tr>\n",
       "    <tr>\n",
       "      <th>8440-20-203</th>\n",
       "      <th>Lance Labour</th>\n",
       "      <td>9.0</td>\n",
       "      <td>0.87</td>\n",
       "    </tr>\n",
       "    <tr>\n",
       "      <th>8455-50-504</th>\n",
       "      <th>Vacation/Holiday/Flex/Sick</th>\n",
       "      <td>188.0</td>\n",
       "      <td>18.33</td>\n",
       "    </tr>\n",
       "    <tr>\n",
       "      <th>CRF</th>\n",
       "      <th>Capital replacement</th>\n",
       "      <td>528.5</td>\n",
       "      <td>51.42</td>\n",
       "    </tr>\n",
       "  </tbody>\n",
       "</table>\n",
       "</div>"
      ],
      "text/plain": [
       "                                             all_hrs  percent\n",
       "AccountCodeID Note                                           \n",
       "6210-50-504   Jack Singer Salaried Billable     13.0     1.25\n",
       "7290-50-504   LX Maintenance                    45.0     4.38\n",
       "7480-50-504   Stage Maintenance                 52.0     5.07\n",
       "8430-50-504   Salaried Admin                   196.5    19.12\n",
       "8440-20-203   Lance Labour                       9.0     0.87\n",
       "8455-50-504   Vacation/Holiday/Flex/Sick       188.0    18.33\n",
       "CRF           Capital replacement              528.5    51.42"
      ]
     },
     "execution_count": 46,
     "metadata": {},
     "output_type": "execute_result"
    }
   ],
   "source": [
    "# sum and present the data\n",
    "df_mg.groupby(['AccountCodeID', 'Note']).sum()"
   ]
  },
  {
   "cell_type": "markdown",
   "metadata": {},
   "source": [
    "---"
   ]
  },
  {
   "cell_type": "markdown",
   "metadata": {},
   "source": [
    "#### Hours Worked - Rikki Schlosser"
   ]
  },
  {
   "cell_type": "code",
   "execution_count": 47,
   "metadata": {},
   "outputs": [],
   "source": [
    "# filter for Rikki\n",
    "filter_mask = df['FirstName'] == \"Rikki\"\n",
    "df_rs = df[filter_mask]"
   ]
  },
  {
   "cell_type": "code",
   "execution_count": 48,
   "metadata": {},
   "outputs": [],
   "source": [
    "#create percent column\n",
    "df_rs['percent'] = (df_rs['all_hrs'] / df_rs['all_hrs'].sum()) * 100\n",
    "df_rs.percent = df_rs.percent.round(2)"
   ]
  },
  {
   "cell_type": "code",
   "execution_count": 49,
   "metadata": {},
   "outputs": [],
   "source": [
    "# create the new df removing uneeded column data\n",
    "df_rs = df_rs[['AccountCodeID', 'Note', 'all_hrs', 'percent']].copy()"
   ]
  },
  {
   "cell_type": "code",
   "execution_count": 50,
   "metadata": {},
   "outputs": [
    {
     "data": {
      "text/html": [
       "<div>\n",
       "<style scoped>\n",
       "    .dataframe tbody tr th:only-of-type {\n",
       "        vertical-align: middle;\n",
       "    }\n",
       "\n",
       "    .dataframe tbody tr th {\n",
       "        vertical-align: top;\n",
       "    }\n",
       "\n",
       "    .dataframe thead th {\n",
       "        text-align: right;\n",
       "    }\n",
       "</style>\n",
       "<table border=\"1\" class=\"dataframe\">\n",
       "  <thead>\n",
       "    <tr style=\"text-align: right;\">\n",
       "      <th></th>\n",
       "      <th></th>\n",
       "      <th>all_hrs</th>\n",
       "      <th>percent</th>\n",
       "    </tr>\n",
       "    <tr>\n",
       "      <th>AccountCodeID</th>\n",
       "      <th>Note</th>\n",
       "      <th></th>\n",
       "      <th></th>\n",
       "    </tr>\n",
       "  </thead>\n",
       "  <tbody>\n",
       "    <tr>\n",
       "      <th>6210-50-504</th>\n",
       "      <th>Jack Singer Salaried Billable</th>\n",
       "      <td>14.00</td>\n",
       "      <td>1.37</td>\n",
       "    </tr>\n",
       "    <tr>\n",
       "      <th>7290-50-504</th>\n",
       "      <th>LX Maintenance</th>\n",
       "      <td>3.00</td>\n",
       "      <td>0.29</td>\n",
       "    </tr>\n",
       "    <tr>\n",
       "      <th>7430-50-504</th>\n",
       "      <th>Sound Maintenance</th>\n",
       "      <td>5.50</td>\n",
       "      <td>0.53</td>\n",
       "    </tr>\n",
       "    <tr>\n",
       "      <th>7470-20-204</th>\n",
       "      <th>Stg Res Co</th>\n",
       "      <td>7.00</td>\n",
       "      <td>0.69</td>\n",
       "    </tr>\n",
       "    <tr>\n",
       "      <th>7480-50-504</th>\n",
       "      <th>Stage Maintenance</th>\n",
       "      <td>366.25</td>\n",
       "      <td>35.65</td>\n",
       "    </tr>\n",
       "    <tr>\n",
       "      <th>8430-50-504</th>\n",
       "      <th>Salaried Admin</th>\n",
       "      <td>507.75</td>\n",
       "      <td>49.46</td>\n",
       "    </tr>\n",
       "    <tr>\n",
       "      <th>8455-50-504</th>\n",
       "      <th>Vacation/Holiday/Flex/Sick</th>\n",
       "      <td>103.50</td>\n",
       "      <td>10.09</td>\n",
       "    </tr>\n",
       "    <tr>\n",
       "      <th>CRF</th>\n",
       "      <th>Capital replacement</th>\n",
       "      <td>22.50</td>\n",
       "      <td>2.18</td>\n",
       "    </tr>\n",
       "  </tbody>\n",
       "</table>\n",
       "</div>"
      ],
      "text/plain": [
       "                                             all_hrs  percent\n",
       "AccountCodeID Note                                           \n",
       "6210-50-504   Jack Singer Salaried Billable    14.00     1.37\n",
       "7290-50-504   LX Maintenance                    3.00     0.29\n",
       "7430-50-504   Sound Maintenance                 5.50     0.53\n",
       "7470-20-204   Stg Res Co                        7.00     0.69\n",
       "7480-50-504   Stage Maintenance               366.25    35.65\n",
       "8430-50-504   Salaried Admin                  507.75    49.46\n",
       "8455-50-504   Vacation/Holiday/Flex/Sick      103.50    10.09\n",
       "CRF           Capital replacement              22.50     2.18"
      ]
     },
     "execution_count": 50,
     "metadata": {},
     "output_type": "execute_result"
    }
   ],
   "source": [
    "# sum and present the data\n",
    "df_rs.groupby(['AccountCodeID', 'Note']).sum()"
   ]
  },
  {
   "cell_type": "markdown",
   "metadata": {},
   "source": [
    "---"
   ]
  },
  {
   "cell_type": "markdown",
   "metadata": {},
   "source": [
    "#### Hours Worked - Terry Aalders"
   ]
  },
  {
   "cell_type": "code",
   "execution_count": 51,
   "metadata": {},
   "outputs": [],
   "source": [
    "# filter for Terry\n",
    "filter_mask = df['FirstName'] == \"Terry\"\n",
    "df_ta = df[filter_mask]"
   ]
  },
  {
   "cell_type": "code",
   "execution_count": 52,
   "metadata": {},
   "outputs": [],
   "source": [
    "#create percent column\n",
    "df_ta['percent'] = (df_ta['all_hrs'] / df_ta['all_hrs'].sum()) * 100\n",
    "df_ta.percent = df_ta.percent.round(2)"
   ]
  },
  {
   "cell_type": "code",
   "execution_count": 53,
   "metadata": {},
   "outputs": [],
   "source": [
    "# create the new df removing uneeded column data\n",
    "df_ta = df_ta[['AccountCodeID', 'Note', 'all_hrs', 'percent']].copy()"
   ]
  },
  {
   "cell_type": "code",
   "execution_count": 54,
   "metadata": {},
   "outputs": [
    {
     "data": {
      "text/html": [
       "<div>\n",
       "<style scoped>\n",
       "    .dataframe tbody tr th:only-of-type {\n",
       "        vertical-align: middle;\n",
       "    }\n",
       "\n",
       "    .dataframe tbody tr th {\n",
       "        vertical-align: top;\n",
       "    }\n",
       "\n",
       "    .dataframe thead th {\n",
       "        text-align: right;\n",
       "    }\n",
       "</style>\n",
       "<table border=\"1\" class=\"dataframe\">\n",
       "  <thead>\n",
       "    <tr style=\"text-align: right;\">\n",
       "      <th></th>\n",
       "      <th></th>\n",
       "      <th>all_hrs</th>\n",
       "      <th>percent</th>\n",
       "    </tr>\n",
       "    <tr>\n",
       "      <th>AccountCodeID</th>\n",
       "      <th>Note</th>\n",
       "      <th></th>\n",
       "      <th></th>\n",
       "    </tr>\n",
       "  </thead>\n",
       "  <tbody>\n",
       "    <tr>\n",
       "      <th>7430-50-504</th>\n",
       "      <th>Sound Maintenance</th>\n",
       "      <td>82.50</td>\n",
       "      <td>8.02</td>\n",
       "    </tr>\n",
       "    <tr>\n",
       "      <th>7480-50-504</th>\n",
       "      <th>Stage Maintenance</th>\n",
       "      <td>0.50</td>\n",
       "      <td>0.05</td>\n",
       "    </tr>\n",
       "    <tr>\n",
       "      <th>8430-50-504</th>\n",
       "      <th>Salaried Admin</th>\n",
       "      <td>549.25</td>\n",
       "      <td>53.59</td>\n",
       "    </tr>\n",
       "    <tr>\n",
       "      <th>8455-50-504</th>\n",
       "      <th>Vacation/Holiday/Flex/Sick</th>\n",
       "      <td>107.00</td>\n",
       "      <td>10.42</td>\n",
       "    </tr>\n",
       "    <tr>\n",
       "      <th>CRF</th>\n",
       "      <th>Capital replacement</th>\n",
       "      <td>292.75</td>\n",
       "      <td>28.54</td>\n",
       "    </tr>\n",
       "  </tbody>\n",
       "</table>\n",
       "</div>"
      ],
      "text/plain": [
       "                                          all_hrs  percent\n",
       "AccountCodeID Note                                        \n",
       "7430-50-504   Sound Maintenance             82.50     8.02\n",
       "7480-50-504   Stage Maintenance              0.50     0.05\n",
       "8430-50-504   Salaried Admin               549.25    53.59\n",
       "8455-50-504   Vacation/Holiday/Flex/Sick   107.00    10.42\n",
       "CRF           Capital replacement          292.75    28.54"
      ]
     },
     "execution_count": 54,
     "metadata": {},
     "output_type": "execute_result"
    }
   ],
   "source": [
    "# sum and present the data\n",
    "df_ta.groupby(['AccountCodeID', 'Note']).sum()"
   ]
  },
  {
   "cell_type": "markdown",
   "metadata": {},
   "source": [
    "---"
   ]
  },
  {
   "cell_type": "markdown",
   "metadata": {},
   "source": [
    "#### Hours Worked - David McDougall"
   ]
  },
  {
   "cell_type": "code",
   "execution_count": 55,
   "metadata": {},
   "outputs": [],
   "source": [
    "# filter for David\n",
    "filter_mask = df['FirstName'] == \"David\"\n",
    "df_dm = df[filter_mask]"
   ]
  },
  {
   "cell_type": "code",
   "execution_count": 56,
   "metadata": {},
   "outputs": [],
   "source": [
    "#create percent column\n",
    "df_dm['percent'] = (df_dm['all_hrs'] / df_dm['all_hrs'].sum()) * 100\n",
    "df_dm.percent = df_dm.percent.round(2)"
   ]
  },
  {
   "cell_type": "code",
   "execution_count": 57,
   "metadata": {},
   "outputs": [],
   "source": [
    "# create the new df removing uneeded column data\n",
    "df_dm = df_dm[['AccountCodeID', 'Note', 'all_hrs', 'percent']].copy()"
   ]
  },
  {
   "cell_type": "code",
   "execution_count": 58,
   "metadata": {},
   "outputs": [
    {
     "data": {
      "text/html": [
       "<div>\n",
       "<style scoped>\n",
       "    .dataframe tbody tr th:only-of-type {\n",
       "        vertical-align: middle;\n",
       "    }\n",
       "\n",
       "    .dataframe tbody tr th {\n",
       "        vertical-align: top;\n",
       "    }\n",
       "\n",
       "    .dataframe thead th {\n",
       "        text-align: right;\n",
       "    }\n",
       "</style>\n",
       "<table border=\"1\" class=\"dataframe\">\n",
       "  <thead>\n",
       "    <tr style=\"text-align: right;\">\n",
       "      <th></th>\n",
       "      <th></th>\n",
       "      <th>all_hrs</th>\n",
       "      <th>percent</th>\n",
       "    </tr>\n",
       "    <tr>\n",
       "      <th>AccountCodeID</th>\n",
       "      <th>Note</th>\n",
       "      <th></th>\n",
       "      <th></th>\n",
       "    </tr>\n",
       "  </thead>\n",
       "  <tbody>\n",
       "    <tr>\n",
       "      <th>8430-50-504</th>\n",
       "      <th>Salaried Admin</th>\n",
       "      <td>866.5</td>\n",
       "      <td>83.83</td>\n",
       "    </tr>\n",
       "    <tr>\n",
       "      <th>8455-50-504</th>\n",
       "      <th>Vacation/Holiday/Flex/Sick</th>\n",
       "      <td>166.5</td>\n",
       "      <td>16.04</td>\n",
       "    </tr>\n",
       "  </tbody>\n",
       "</table>\n",
       "</div>"
      ],
      "text/plain": [
       "                                          all_hrs  percent\n",
       "AccountCodeID Note                                        \n",
       "8430-50-504   Salaried Admin                866.5    83.83\n",
       "8455-50-504   Vacation/Holiday/Flex/Sick    166.5    16.04"
      ]
     },
     "execution_count": 58,
     "metadata": {},
     "output_type": "execute_result"
    }
   ],
   "source": [
    "# sum and present the data\n",
    "df_dm.groupby(['AccountCodeID', 'Note']).sum()"
   ]
  },
  {
   "cell_type": "markdown",
   "metadata": {},
   "source": [
    "---"
   ]
  },
  {
   "cell_type": "markdown",
   "metadata": {},
   "source": [
    "## LIEU hours"
   ]
  },
  {
   "cell_type": "code",
   "execution_count": 59,
   "metadata": {},
   "outputs": [],
   "source": [
    "from datetime import timedelta"
   ]
  },
  {
   "cell_type": "code",
   "execution_count": 60,
   "metadata": {},
   "outputs": [],
   "source": [
    "# grab data from the db and input it to a df\n",
    "# the query is HeadworkedTable joined with ShowTable joined with HeadNamesTable filtered on ShowName 'FLEX DAY'\n",
    "sql_file=open(f'{cfg.sql_dir}\\lieu_hours.sql')\n",
    "query = sql_file.read()\n",
    "\n",
    "with dbfnc.connection(cfg.my_driver, cfg.my_server, cfg.my_db) as conn:\n",
    "    df = pd.read_sql(query, conn)"
   ]
  },
  {
   "cell_type": "code",
   "execution_count": 61,
   "metadata": {},
   "outputs": [],
   "source": [
    "# filter out those who have left the company\n",
    "remove_list = ['Juan', 'Donnie', 'Phil']\n",
    "filter_mask = ~df['FirstName'].isin(remove_list)\n",
    "df = df[filter_mask]"
   ]
  },
  {
   "cell_type": "code",
   "execution_count": 62,
   "metadata": {},
   "outputs": [],
   "source": [
    "# create a day of the week number (Sun == 6, Mon == 0)\n",
    "df['day-of-week']=df['ShiftDate'].dt.dayofweek"
   ]
  },
  {
   "cell_type": "code",
   "execution_count": 63,
   "metadata": {},
   "outputs": [],
   "source": [
    "# function to calcualte the weekending date\n",
    "def wk_ending(my_df):\n",
    "    if my_df[6]==6:\n",
    "        wk_end_offset = 6\n",
    "    else:\n",
    "        wk_end_offset =5-my_df[6]\n",
    "    wkend_date = pd.Timestamp(my_df[1] + timedelta(days=wk_end_offset))\n",
    "    return wkend_date"
   ]
  },
  {
   "cell_type": "code",
   "execution_count": 64,
   "metadata": {},
   "outputs": [],
   "source": [
    "# add the week ending date\n",
    "df['week_ending'] = df.apply(wk_ending, axis=1)"
   ]
  },
  {
   "cell_type": "code",
   "execution_count": 65,
   "metadata": {},
   "outputs": [],
   "source": [
    "# Overtime conversions\n",
    "df['OT_convert'] = df.OverTimeHours.apply(lambda x:x*1.5)\n",
    "df['DT_convert'] = df.DoubleTimeHours.apply(lambda x:x*2)"
   ]
  },
  {
   "cell_type": "code",
   "execution_count": 66,
   "metadata": {},
   "outputs": [],
   "source": [
    "# convert the payouts to negative integers \n",
    "df['neg_payouts'] = df.Payoutinhrs.apply(lambda x:x*-1)"
   ]
  },
  {
   "cell_type": "code",
   "execution_count": 67,
   "metadata": {},
   "outputs": [],
   "source": [
    "# Combine all hours\n",
    "sum_cols =['RegTimeHours', 'OT_convert', 'DT_convert']\n",
    "df['all_hrs_wrkd'] = df[sum_cols].sum(axis=1)"
   ]
  },
  {
   "cell_type": "code",
   "execution_count": 68,
   "metadata": {},
   "outputs": [],
   "source": [
    "# sum and present the data\n",
    "df = df.groupby(['FirstName','week_ending']).sum().reset_index()"
   ]
  },
  {
   "cell_type": "code",
   "execution_count": 69,
   "metadata": {},
   "outputs": [],
   "source": [
    "#df['hours_owed'] = df.apply(over_under, axis=1)\n",
    "df['hours_owed'] = -40"
   ]
  },
  {
   "cell_type": "code",
   "execution_count": 70,
   "metadata": {},
   "outputs": [],
   "source": [
    "sum_cols =['all_hrs_wrkd', 'hours_owed', 'neg_payouts']\n",
    "df['balance'] = df[sum_cols].sum(axis=1)"
   ]
  },
  {
   "cell_type": "code",
   "execution_count": 71,
   "metadata": {},
   "outputs": [],
   "source": [
    "# create the new df removing uneeded column data\n",
    "df = df[['FirstName', 'week_ending', 'balance']].copy()"
   ]
  },
  {
   "cell_type": "code",
   "execution_count": 72,
   "metadata": {},
   "outputs": [],
   "source": [
    "df = df.groupby(['FirstName']).sum().round(2)"
   ]
  },
  {
   "cell_type": "code",
   "execution_count": 73,
   "metadata": {},
   "outputs": [
    {
     "data": {
      "text/html": [
       "<div>\n",
       "<style scoped>\n",
       "    .dataframe tbody tr th:only-of-type {\n",
       "        vertical-align: middle;\n",
       "    }\n",
       "\n",
       "    .dataframe tbody tr th {\n",
       "        vertical-align: top;\n",
       "    }\n",
       "\n",
       "    .dataframe thead th {\n",
       "        text-align: right;\n",
       "    }\n",
       "</style>\n",
       "<table border=\"1\" class=\"dataframe\">\n",
       "  <thead>\n",
       "    <tr style=\"text-align: right;\">\n",
       "      <th></th>\n",
       "      <th>balance</th>\n",
       "    </tr>\n",
       "    <tr>\n",
       "      <th>FirstName</th>\n",
       "      <th></th>\n",
       "    </tr>\n",
       "  </thead>\n",
       "  <tbody>\n",
       "    <tr>\n",
       "      <th>Arran</th>\n",
       "      <td>0.00</td>\n",
       "    </tr>\n",
       "    <tr>\n",
       "      <th>David</th>\n",
       "      <td>0.00</td>\n",
       "    </tr>\n",
       "    <tr>\n",
       "      <th>Jack</th>\n",
       "      <td>0.99</td>\n",
       "    </tr>\n",
       "    <tr>\n",
       "      <th>Jaclyn</th>\n",
       "      <td>-0.00</td>\n",
       "    </tr>\n",
       "    <tr>\n",
       "      <th>Kris</th>\n",
       "      <td>0.00</td>\n",
       "    </tr>\n",
       "    <tr>\n",
       "      <th>Matt</th>\n",
       "      <td>-10.38</td>\n",
       "    </tr>\n",
       "    <tr>\n",
       "      <th>Rikki</th>\n",
       "      <td>-3.88</td>\n",
       "    </tr>\n",
       "    <tr>\n",
       "      <th>Terry</th>\n",
       "      <td>-1.25</td>\n",
       "    </tr>\n",
       "  </tbody>\n",
       "</table>\n",
       "</div>"
      ],
      "text/plain": [
       "           balance\n",
       "FirstName         \n",
       "Arran         0.00\n",
       "David         0.00\n",
       "Jack          0.99\n",
       "Jaclyn       -0.00\n",
       "Kris          0.00\n",
       "Matt        -10.38\n",
       "Rikki        -3.88\n",
       "Terry        -1.25"
      ]
     },
     "execution_count": 73,
     "metadata": {},
     "output_type": "execute_result"
    }
   ],
   "source": [
    "df"
   ]
  },
  {
   "cell_type": "code",
   "execution_count": null,
   "metadata": {},
   "outputs": [],
   "source": []
  }
 ],
 "metadata": {
  "kernelspec": {
   "display_name": "Python 3",
   "language": "python",
   "name": "python3"
  },
  "language_info": {
   "codemirror_mode": {
    "name": "ipython",
    "version": 3
   },
   "file_extension": ".py",
   "mimetype": "text/x-python",
   "name": "python",
   "nbconvert_exporter": "python",
   "pygments_lexer": "ipython3",
   "version": "3.8.2"
  }
 },
 "nbformat": 4,
 "nbformat_minor": 4
}

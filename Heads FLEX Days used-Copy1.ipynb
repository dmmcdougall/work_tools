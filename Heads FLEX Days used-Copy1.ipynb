{
 "cells": [
  {
   "cell_type": "markdown",
   "metadata": {},
   "source": [
    "# Monthly Reports"
   ]
  },
  {
   "cell_type": "markdown",
   "metadata": {},
   "source": [
    "## Head FLEX Days Used"
   ]
  },
  {
   "cell_type": "code",
   "execution_count": 101,
   "metadata": {},
   "outputs": [],
   "source": [
    "# start with imports\n",
    "import pandas as pd\n",
    "import db_functions as dbfnc\n",
    "import config as cfg\n",
    "from datetime import date"
   ]
  },
  {
   "cell_type": "code",
   "execution_count": 102,
   "metadata": {},
   "outputs": [],
   "source": [
    "# grab data from the db and input it to a df\n",
    "# the query is HeadworkedTable joined with ShowTable joined with HeadNamesTable filtered on ShowName 'FLEX DAY'\n",
    "sql_file=open(f'{cfg.sql_dir}\\head_toil_days.sql')\n",
    "query = sql_file.read()\n",
    "\n",
    "with dbfnc.connection(cfg.my_driver, cfg.my_server, cfg.my_db) as conn:\n",
    "    df = pd.read_sql(query, conn)"
   ]
  },
  {
   "cell_type": "code",
   "execution_count": 103,
   "metadata": {},
   "outputs": [],
   "source": [
    "# filter for last 12 months\n",
    "value_to_check = pd.Timestamp(date.today().year-1, date.today().month, date.today().day)\n",
    "filter_mask = df['ShiftDate'] > value_to_check\n",
    "df = df[filter_mask]"
   ]
  },
  {
   "cell_type": "code",
   "execution_count": 104,
   "metadata": {},
   "outputs": [],
   "source": [
    "# create df with FLEX DAYS only with a filter\n",
    "filter_mask = df['ShowTitle'] == 'FLEX DAY'\n",
    "df = df[filter_mask]"
   ]
  },
  {
   "cell_type": "code",
   "execution_count": 105,
   "metadata": {},
   "outputs": [],
   "source": [
    "# turn the datetime64 object into a string object for manipultaion\n",
    "df['Date_String'] = df['ShiftDate'].dt.strftime('%Y-%m-%d')"
   ]
  },
  {
   "cell_type": "code",
   "execution_count": 106,
   "metadata": {},
   "outputs": [],
   "source": [
    "# create the fiscal info from the new string object\n",
    "df['Fiscal Year'] = df.Date_String.apply(dbfnc.fiscal_yr)\n",
    "df['Fiscal Quarter'] = df.Date_String.apply(dbfnc.fiscal_q)"
   ]
  },
  {
   "cell_type": "code",
   "execution_count": 107,
   "metadata": {},
   "outputs": [],
   "source": [
    "# sort for presentation\n",
    "df.sort_values(by='FirstName', inplace=True)\n",
    "sort_list = ['Fiscal Year', 'Fiscal Quarter']\n",
    "df.sort_values(by=sort_list, ascending=False, inplace=True)"
   ]
  },
  {
   "cell_type": "code",
   "execution_count": 108,
   "metadata": {},
   "outputs": [],
   "source": [
    "#create the new df removing uneeded column data\n",
    "df = df[['Fiscal Year', 'Fiscal Quarter', 'FirstName', 'ShiftDate']].copy()"
   ]
  },
  {
   "cell_type": "code",
   "execution_count": 109,
   "metadata": {},
   "outputs": [
    {
     "data": {
      "text/html": [
       "<style  type=\"text/css\" >\n",
       "    #T_c90f339d_8927_11eb_b202_480fcf6695dfrow0_col0 {\n",
       "            text-align:  center;\n",
       "        }    #T_c90f339d_8927_11eb_b202_480fcf6695dfrow0_col1 {\n",
       "            text-align:  center;\n",
       "        }    #T_c90f339d_8927_11eb_b202_480fcf6695dfrow0_col2 {\n",
       "            text-align:  center;\n",
       "        }    #T_c90f339d_8927_11eb_b202_480fcf6695dfrow0_col3 {\n",
       "            text-align:  center;\n",
       "        }    #T_c90f339d_8927_11eb_b202_480fcf6695dfrow1_col0 {\n",
       "            text-align:  center;\n",
       "        }    #T_c90f339d_8927_11eb_b202_480fcf6695dfrow1_col1 {\n",
       "            text-align:  center;\n",
       "        }    #T_c90f339d_8927_11eb_b202_480fcf6695dfrow1_col2 {\n",
       "            text-align:  center;\n",
       "        }    #T_c90f339d_8927_11eb_b202_480fcf6695dfrow1_col3 {\n",
       "            text-align:  center;\n",
       "        }    #T_c90f339d_8927_11eb_b202_480fcf6695dfrow2_col0 {\n",
       "            text-align:  center;\n",
       "        }    #T_c90f339d_8927_11eb_b202_480fcf6695dfrow2_col1 {\n",
       "            text-align:  center;\n",
       "        }    #T_c90f339d_8927_11eb_b202_480fcf6695dfrow2_col2 {\n",
       "            text-align:  center;\n",
       "        }    #T_c90f339d_8927_11eb_b202_480fcf6695dfrow2_col3 {\n",
       "            text-align:  center;\n",
       "        }    #T_c90f339d_8927_11eb_b202_480fcf6695dfrow3_col0 {\n",
       "            text-align:  center;\n",
       "        }    #T_c90f339d_8927_11eb_b202_480fcf6695dfrow3_col1 {\n",
       "            text-align:  center;\n",
       "        }    #T_c90f339d_8927_11eb_b202_480fcf6695dfrow3_col2 {\n",
       "            text-align:  center;\n",
       "        }    #T_c90f339d_8927_11eb_b202_480fcf6695dfrow3_col3 {\n",
       "            text-align:  center;\n",
       "        }    #T_c90f339d_8927_11eb_b202_480fcf6695dfrow4_col0 {\n",
       "            text-align:  center;\n",
       "        }    #T_c90f339d_8927_11eb_b202_480fcf6695dfrow4_col1 {\n",
       "            text-align:  center;\n",
       "        }    #T_c90f339d_8927_11eb_b202_480fcf6695dfrow4_col2 {\n",
       "            text-align:  center;\n",
       "        }    #T_c90f339d_8927_11eb_b202_480fcf6695dfrow4_col3 {\n",
       "            text-align:  center;\n",
       "        }    #T_c90f339d_8927_11eb_b202_480fcf6695dfrow5_col0 {\n",
       "            text-align:  center;\n",
       "        }    #T_c90f339d_8927_11eb_b202_480fcf6695dfrow5_col1 {\n",
       "            text-align:  center;\n",
       "        }    #T_c90f339d_8927_11eb_b202_480fcf6695dfrow5_col2 {\n",
       "            text-align:  center;\n",
       "        }    #T_c90f339d_8927_11eb_b202_480fcf6695dfrow5_col3 {\n",
       "            text-align:  center;\n",
       "        }    #T_c90f339d_8927_11eb_b202_480fcf6695dfrow6_col0 {\n",
       "            text-align:  center;\n",
       "        }    #T_c90f339d_8927_11eb_b202_480fcf6695dfrow6_col1 {\n",
       "            text-align:  center;\n",
       "        }    #T_c90f339d_8927_11eb_b202_480fcf6695dfrow6_col2 {\n",
       "            text-align:  center;\n",
       "        }    #T_c90f339d_8927_11eb_b202_480fcf6695dfrow6_col3 {\n",
       "            text-align:  center;\n",
       "        }    #T_c90f339d_8927_11eb_b202_480fcf6695dfrow7_col0 {\n",
       "            text-align:  center;\n",
       "        }    #T_c90f339d_8927_11eb_b202_480fcf6695dfrow7_col1 {\n",
       "            text-align:  center;\n",
       "        }    #T_c90f339d_8927_11eb_b202_480fcf6695dfrow7_col2 {\n",
       "            text-align:  center;\n",
       "        }    #T_c90f339d_8927_11eb_b202_480fcf6695dfrow7_col3 {\n",
       "            text-align:  center;\n",
       "        }    #T_c90f339d_8927_11eb_b202_480fcf6695dfrow8_col0 {\n",
       "            text-align:  center;\n",
       "        }    #T_c90f339d_8927_11eb_b202_480fcf6695dfrow8_col1 {\n",
       "            text-align:  center;\n",
       "        }    #T_c90f339d_8927_11eb_b202_480fcf6695dfrow8_col2 {\n",
       "            text-align:  center;\n",
       "        }    #T_c90f339d_8927_11eb_b202_480fcf6695dfrow8_col3 {\n",
       "            text-align:  center;\n",
       "        }    #T_c90f339d_8927_11eb_b202_480fcf6695dfrow9_col0 {\n",
       "            text-align:  center;\n",
       "        }    #T_c90f339d_8927_11eb_b202_480fcf6695dfrow9_col1 {\n",
       "            text-align:  center;\n",
       "        }    #T_c90f339d_8927_11eb_b202_480fcf6695dfrow9_col2 {\n",
       "            text-align:  center;\n",
       "        }    #T_c90f339d_8927_11eb_b202_480fcf6695dfrow9_col3 {\n",
       "            text-align:  center;\n",
       "        }    #T_c90f339d_8927_11eb_b202_480fcf6695dfrow10_col0 {\n",
       "            text-align:  center;\n",
       "        }    #T_c90f339d_8927_11eb_b202_480fcf6695dfrow10_col1 {\n",
       "            text-align:  center;\n",
       "        }    #T_c90f339d_8927_11eb_b202_480fcf6695dfrow10_col2 {\n",
       "            text-align:  center;\n",
       "        }    #T_c90f339d_8927_11eb_b202_480fcf6695dfrow10_col3 {\n",
       "            text-align:  center;\n",
       "        }    #T_c90f339d_8927_11eb_b202_480fcf6695dfrow11_col0 {\n",
       "            text-align:  center;\n",
       "        }    #T_c90f339d_8927_11eb_b202_480fcf6695dfrow11_col1 {\n",
       "            text-align:  center;\n",
       "        }    #T_c90f339d_8927_11eb_b202_480fcf6695dfrow11_col2 {\n",
       "            text-align:  center;\n",
       "        }    #T_c90f339d_8927_11eb_b202_480fcf6695dfrow11_col3 {\n",
       "            text-align:  center;\n",
       "        }    #T_c90f339d_8927_11eb_b202_480fcf6695dfrow12_col0 {\n",
       "            text-align:  center;\n",
       "        }    #T_c90f339d_8927_11eb_b202_480fcf6695dfrow12_col1 {\n",
       "            text-align:  center;\n",
       "        }    #T_c90f339d_8927_11eb_b202_480fcf6695dfrow12_col2 {\n",
       "            text-align:  center;\n",
       "        }    #T_c90f339d_8927_11eb_b202_480fcf6695dfrow12_col3 {\n",
       "            text-align:  center;\n",
       "        }    #T_c90f339d_8927_11eb_b202_480fcf6695dfrow13_col0 {\n",
       "            text-align:  center;\n",
       "        }    #T_c90f339d_8927_11eb_b202_480fcf6695dfrow13_col1 {\n",
       "            text-align:  center;\n",
       "        }    #T_c90f339d_8927_11eb_b202_480fcf6695dfrow13_col2 {\n",
       "            text-align:  center;\n",
       "        }    #T_c90f339d_8927_11eb_b202_480fcf6695dfrow13_col3 {\n",
       "            text-align:  center;\n",
       "        }    #T_c90f339d_8927_11eb_b202_480fcf6695dfrow14_col0 {\n",
       "            text-align:  center;\n",
       "        }    #T_c90f339d_8927_11eb_b202_480fcf6695dfrow14_col1 {\n",
       "            text-align:  center;\n",
       "        }    #T_c90f339d_8927_11eb_b202_480fcf6695dfrow14_col2 {\n",
       "            text-align:  center;\n",
       "        }    #T_c90f339d_8927_11eb_b202_480fcf6695dfrow14_col3 {\n",
       "            text-align:  center;\n",
       "        }    #T_c90f339d_8927_11eb_b202_480fcf6695dfrow15_col0 {\n",
       "            text-align:  center;\n",
       "        }    #T_c90f339d_8927_11eb_b202_480fcf6695dfrow15_col1 {\n",
       "            text-align:  center;\n",
       "        }    #T_c90f339d_8927_11eb_b202_480fcf6695dfrow15_col2 {\n",
       "            text-align:  center;\n",
       "        }    #T_c90f339d_8927_11eb_b202_480fcf6695dfrow15_col3 {\n",
       "            text-align:  center;\n",
       "        }    #T_c90f339d_8927_11eb_b202_480fcf6695dfrow16_col0 {\n",
       "            text-align:  center;\n",
       "        }    #T_c90f339d_8927_11eb_b202_480fcf6695dfrow16_col1 {\n",
       "            text-align:  center;\n",
       "        }    #T_c90f339d_8927_11eb_b202_480fcf6695dfrow16_col2 {\n",
       "            text-align:  center;\n",
       "        }    #T_c90f339d_8927_11eb_b202_480fcf6695dfrow16_col3 {\n",
       "            text-align:  center;\n",
       "        }</style><table id=\"T_c90f339d_8927_11eb_b202_480fcf6695df\" ><thead>    <tr>        <th class=\"col_heading level0 col0\" >Fiscal Year</th>        <th class=\"col_heading level0 col1\" >Fiscal Quarter</th>        <th class=\"col_heading level0 col2\" >FirstName</th>        <th class=\"col_heading level0 col3\" >ShiftDate</th>    </tr></thead><tbody>\n",
       "                <tr>\n",
       "                                <td id=\"T_c90f339d_8927_11eb_b202_480fcf6695dfrow0_col0\" class=\"data row0 col0\" >2020-2021</td>\n",
       "                        <td id=\"T_c90f339d_8927_11eb_b202_480fcf6695dfrow0_col1\" class=\"data row0 col1\" >2</td>\n",
       "                        <td id=\"T_c90f339d_8927_11eb_b202_480fcf6695dfrow0_col2\" class=\"data row0 col2\" >Arran</td>\n",
       "                        <td id=\"T_c90f339d_8927_11eb_b202_480fcf6695dfrow0_col3\" class=\"data row0 col3\" >2021-02-05 00:00:00</td>\n",
       "            </tr>\n",
       "            <tr>\n",
       "                                <td id=\"T_c90f339d_8927_11eb_b202_480fcf6695dfrow1_col0\" class=\"data row1 col0\" >2020-2021</td>\n",
       "                        <td id=\"T_c90f339d_8927_11eb_b202_480fcf6695dfrow1_col1\" class=\"data row1 col1\" >2</td>\n",
       "                        <td id=\"T_c90f339d_8927_11eb_b202_480fcf6695dfrow1_col2\" class=\"data row1 col2\" >David</td>\n",
       "                        <td id=\"T_c90f339d_8927_11eb_b202_480fcf6695dfrow1_col3\" class=\"data row1 col3\" >2021-01-29 00:00:00</td>\n",
       "            </tr>\n",
       "            <tr>\n",
       "                                <td id=\"T_c90f339d_8927_11eb_b202_480fcf6695dfrow2_col0\" class=\"data row2 col0\" >2020-2021</td>\n",
       "                        <td id=\"T_c90f339d_8927_11eb_b202_480fcf6695dfrow2_col1\" class=\"data row2 col1\" >2</td>\n",
       "                        <td id=\"T_c90f339d_8927_11eb_b202_480fcf6695dfrow2_col2\" class=\"data row2 col2\" >Jack</td>\n",
       "                        <td id=\"T_c90f339d_8927_11eb_b202_480fcf6695dfrow2_col3\" class=\"data row2 col3\" >2021-01-14 00:00:00</td>\n",
       "            </tr>\n",
       "            <tr>\n",
       "                                <td id=\"T_c90f339d_8927_11eb_b202_480fcf6695dfrow3_col0\" class=\"data row3 col0\" >2020-2021</td>\n",
       "                        <td id=\"T_c90f339d_8927_11eb_b202_480fcf6695dfrow3_col1\" class=\"data row3 col1\" >2</td>\n",
       "                        <td id=\"T_c90f339d_8927_11eb_b202_480fcf6695dfrow3_col2\" class=\"data row3 col2\" >Jaclyn</td>\n",
       "                        <td id=\"T_c90f339d_8927_11eb_b202_480fcf6695dfrow3_col3\" class=\"data row3 col3\" >2020-12-11 00:00:00</td>\n",
       "            </tr>\n",
       "            <tr>\n",
       "                                <td id=\"T_c90f339d_8927_11eb_b202_480fcf6695dfrow4_col0\" class=\"data row4 col0\" >2020-2021</td>\n",
       "                        <td id=\"T_c90f339d_8927_11eb_b202_480fcf6695dfrow4_col1\" class=\"data row4 col1\" >2</td>\n",
       "                        <td id=\"T_c90f339d_8927_11eb_b202_480fcf6695dfrow4_col2\" class=\"data row4 col2\" >Kris</td>\n",
       "                        <td id=\"T_c90f339d_8927_11eb_b202_480fcf6695dfrow4_col3\" class=\"data row4 col3\" >2021-02-19 00:00:00</td>\n",
       "            </tr>\n",
       "            <tr>\n",
       "                                <td id=\"T_c90f339d_8927_11eb_b202_480fcf6695dfrow5_col0\" class=\"data row5 col0\" >2020-2021</td>\n",
       "                        <td id=\"T_c90f339d_8927_11eb_b202_480fcf6695dfrow5_col1\" class=\"data row5 col1\" >2</td>\n",
       "                        <td id=\"T_c90f339d_8927_11eb_b202_480fcf6695dfrow5_col2\" class=\"data row5 col2\" >Matt</td>\n",
       "                        <td id=\"T_c90f339d_8927_11eb_b202_480fcf6695dfrow5_col3\" class=\"data row5 col3\" >2021-02-26 00:00:00</td>\n",
       "            </tr>\n",
       "            <tr>\n",
       "                                <td id=\"T_c90f339d_8927_11eb_b202_480fcf6695dfrow6_col0\" class=\"data row6 col0\" >2020-2021</td>\n",
       "                        <td id=\"T_c90f339d_8927_11eb_b202_480fcf6695dfrow6_col1\" class=\"data row6 col1\" >2</td>\n",
       "                        <td id=\"T_c90f339d_8927_11eb_b202_480fcf6695dfrow6_col2\" class=\"data row6 col2\" >Rikki</td>\n",
       "                        <td id=\"T_c90f339d_8927_11eb_b202_480fcf6695dfrow6_col3\" class=\"data row6 col3\" >2021-02-25 00:00:00</td>\n",
       "            </tr>\n",
       "            <tr>\n",
       "                                <td id=\"T_c90f339d_8927_11eb_b202_480fcf6695dfrow7_col0\" class=\"data row7 col0\" >2020-2021</td>\n",
       "                        <td id=\"T_c90f339d_8927_11eb_b202_480fcf6695dfrow7_col1\" class=\"data row7 col1\" >2</td>\n",
       "                        <td id=\"T_c90f339d_8927_11eb_b202_480fcf6695dfrow7_col2\" class=\"data row7 col2\" >Terry</td>\n",
       "                        <td id=\"T_c90f339d_8927_11eb_b202_480fcf6695dfrow7_col3\" class=\"data row7 col3\" >2021-02-17 00:00:00</td>\n",
       "            </tr>\n",
       "            <tr>\n",
       "                                <td id=\"T_c90f339d_8927_11eb_b202_480fcf6695dfrow8_col0\" class=\"data row8 col0\" >2020-2021</td>\n",
       "                        <td id=\"T_c90f339d_8927_11eb_b202_480fcf6695dfrow8_col1\" class=\"data row8 col1\" >1</td>\n",
       "                        <td id=\"T_c90f339d_8927_11eb_b202_480fcf6695dfrow8_col2\" class=\"data row8 col2\" >Arran</td>\n",
       "                        <td id=\"T_c90f339d_8927_11eb_b202_480fcf6695dfrow8_col3\" class=\"data row8 col3\" >2020-10-16 00:00:00</td>\n",
       "            </tr>\n",
       "            <tr>\n",
       "                                <td id=\"T_c90f339d_8927_11eb_b202_480fcf6695dfrow9_col0\" class=\"data row9 col0\" >2020-2021</td>\n",
       "                        <td id=\"T_c90f339d_8927_11eb_b202_480fcf6695dfrow9_col1\" class=\"data row9 col1\" >1</td>\n",
       "                        <td id=\"T_c90f339d_8927_11eb_b202_480fcf6695dfrow9_col2\" class=\"data row9 col2\" >David</td>\n",
       "                        <td id=\"T_c90f339d_8927_11eb_b202_480fcf6695dfrow9_col3\" class=\"data row9 col3\" >2020-11-20 00:00:00</td>\n",
       "            </tr>\n",
       "            <tr>\n",
       "                                <td id=\"T_c90f339d_8927_11eb_b202_480fcf6695dfrow10_col0\" class=\"data row10 col0\" >2020-2021</td>\n",
       "                        <td id=\"T_c90f339d_8927_11eb_b202_480fcf6695dfrow10_col1\" class=\"data row10 col1\" >1</td>\n",
       "                        <td id=\"T_c90f339d_8927_11eb_b202_480fcf6695dfrow10_col2\" class=\"data row10 col2\" >Jack</td>\n",
       "                        <td id=\"T_c90f339d_8927_11eb_b202_480fcf6695dfrow10_col3\" class=\"data row10 col3\" >2020-11-20 00:00:00</td>\n",
       "            </tr>\n",
       "            <tr>\n",
       "                                <td id=\"T_c90f339d_8927_11eb_b202_480fcf6695dfrow11_col0\" class=\"data row11 col0\" >2020-2021</td>\n",
       "                        <td id=\"T_c90f339d_8927_11eb_b202_480fcf6695dfrow11_col1\" class=\"data row11 col1\" >1</td>\n",
       "                        <td id=\"T_c90f339d_8927_11eb_b202_480fcf6695dfrow11_col2\" class=\"data row11 col2\" >Jaclyn</td>\n",
       "                        <td id=\"T_c90f339d_8927_11eb_b202_480fcf6695dfrow11_col3\" class=\"data row11 col3\" >2020-11-10 00:00:00</td>\n",
       "            </tr>\n",
       "            <tr>\n",
       "                                <td id=\"T_c90f339d_8927_11eb_b202_480fcf6695dfrow12_col0\" class=\"data row12 col0\" >2020-2021</td>\n",
       "                        <td id=\"T_c90f339d_8927_11eb_b202_480fcf6695dfrow12_col1\" class=\"data row12 col1\" >1</td>\n",
       "                        <td id=\"T_c90f339d_8927_11eb_b202_480fcf6695dfrow12_col2\" class=\"data row12 col2\" >Kris</td>\n",
       "                        <td id=\"T_c90f339d_8927_11eb_b202_480fcf6695dfrow12_col3\" class=\"data row12 col3\" >2020-11-27 00:00:00</td>\n",
       "            </tr>\n",
       "            <tr>\n",
       "                                <td id=\"T_c90f339d_8927_11eb_b202_480fcf6695dfrow13_col0\" class=\"data row13 col0\" >2020-2021</td>\n",
       "                        <td id=\"T_c90f339d_8927_11eb_b202_480fcf6695dfrow13_col1\" class=\"data row13 col1\" >1</td>\n",
       "                        <td id=\"T_c90f339d_8927_11eb_b202_480fcf6695dfrow13_col2\" class=\"data row13 col2\" >Matt</td>\n",
       "                        <td id=\"T_c90f339d_8927_11eb_b202_480fcf6695dfrow13_col3\" class=\"data row13 col3\" >2020-11-02 00:00:00</td>\n",
       "            </tr>\n",
       "            <tr>\n",
       "                                <td id=\"T_c90f339d_8927_11eb_b202_480fcf6695dfrow14_col0\" class=\"data row14 col0\" >2020-2021</td>\n",
       "                        <td id=\"T_c90f339d_8927_11eb_b202_480fcf6695dfrow14_col1\" class=\"data row14 col1\" >1</td>\n",
       "                        <td id=\"T_c90f339d_8927_11eb_b202_480fcf6695dfrow14_col2\" class=\"data row14 col2\" >Rikki</td>\n",
       "                        <td id=\"T_c90f339d_8927_11eb_b202_480fcf6695dfrow14_col3\" class=\"data row14 col3\" >2020-11-09 00:00:00</td>\n",
       "            </tr>\n",
       "            <tr>\n",
       "                                <td id=\"T_c90f339d_8927_11eb_b202_480fcf6695dfrow15_col0\" class=\"data row15 col0\" >2020-2021</td>\n",
       "                        <td id=\"T_c90f339d_8927_11eb_b202_480fcf6695dfrow15_col1\" class=\"data row15 col1\" >1</td>\n",
       "                        <td id=\"T_c90f339d_8927_11eb_b202_480fcf6695dfrow15_col2\" class=\"data row15 col2\" >Terry</td>\n",
       "                        <td id=\"T_c90f339d_8927_11eb_b202_480fcf6695dfrow15_col3\" class=\"data row15 col3\" >2020-09-25 00:00:00</td>\n",
       "            </tr>\n",
       "            <tr>\n",
       "                                <td id=\"T_c90f339d_8927_11eb_b202_480fcf6695dfrow16_col0\" class=\"data row16 col0\" >2019-2020</td>\n",
       "                        <td id=\"T_c90f339d_8927_11eb_b202_480fcf6695dfrow16_col1\" class=\"data row16 col1\" >3</td>\n",
       "                        <td id=\"T_c90f339d_8927_11eb_b202_480fcf6695dfrow16_col2\" class=\"data row16 col2\" >Matt</td>\n",
       "                        <td id=\"T_c90f339d_8927_11eb_b202_480fcf6695dfrow16_col3\" class=\"data row16 col3\" >2020-03-20 00:00:00</td>\n",
       "            </tr>\n",
       "    </tbody></table>"
      ],
      "text/plain": [
       "<pandas.io.formats.style.Styler at 0x18b8c60aa90>"
      ]
     },
     "execution_count": 109,
     "metadata": {},
     "output_type": "execute_result"
    }
   ],
   "source": [
    "#.. and style for preentation\n",
    "df.style.set_properties(**{'text-align':'center'}).hide_index()"
   ]
  },
  {
   "cell_type": "markdown",
   "metadata": {},
   "source": [
    "## TOIL Payouts"
   ]
  },
  {
   "cell_type": "code",
   "execution_count": 114,
   "metadata": {},
   "outputs": [],
   "source": [
    "import pandas as pd\n",
    "import db_functions as dbfnc\n",
    "import config as cfg\n",
    "from datetime import date"
   ]
  },
  {
   "cell_type": "code",
   "execution_count": 115,
   "metadata": {},
   "outputs": [],
   "source": [
    "# grab data from the db and input it to a df\n",
    "# the query is HeadworkedTable joined with ShowTable joined with HeadNamesTable filtered on ShowName 'FLEX DAY'\n",
    "sql_file=open(f'{cfg.sql_dir}\\TOIL_payouts.sql')\n",
    "query = sql_file.read()\n",
    "\n",
    "with dbfnc.connection(cfg.my_driver, cfg.my_server, cfg.my_db) as conn:\n",
    "    df = pd.read_sql(query, conn)"
   ]
  },
  {
   "cell_type": "code",
   "execution_count": 121,
   "metadata": {},
   "outputs": [],
   "source": [
    "df['Date_String'] = df['PayoutDate'].dt.strftime('%Y-%m-%d')\n",
    "filter_mask = df.Date_String.apply(dbfnc.current_fiscal) \n",
    "df = df[filter_mask]"
   ]
  },
  {
   "cell_type": "code",
   "execution_count": null,
   "metadata": {},
   "outputs": [],
   "source": [
    "# sum and group each heads hours. "
   ]
  },
  {
   "cell_type": "code",
   "execution_count": null,
   "metadata": {},
   "outputs": [],
   "source": [
    "# make a new df removing access rows"
   ]
  },
  {
   "cell_type": "code",
   "execution_count": 122,
   "metadata": {},
   "outputs": [
    {
     "data": {
      "text/html": [
       "<style  type=\"text/css\" >\n",
       "    #T_de5008ab_892d_11eb_a96a_480fcf6695dfrow0_col0 {\n",
       "            text-align:  center;\n",
       "        }    #T_de5008ab_892d_11eb_a96a_480fcf6695dfrow0_col1 {\n",
       "            text-align:  center;\n",
       "        }    #T_de5008ab_892d_11eb_a96a_480fcf6695dfrow0_col2 {\n",
       "            text-align:  center;\n",
       "        }    #T_de5008ab_892d_11eb_a96a_480fcf6695dfrow0_col3 {\n",
       "            text-align:  center;\n",
       "        }    #T_de5008ab_892d_11eb_a96a_480fcf6695dfrow1_col0 {\n",
       "            text-align:  center;\n",
       "        }    #T_de5008ab_892d_11eb_a96a_480fcf6695dfrow1_col1 {\n",
       "            text-align:  center;\n",
       "        }    #T_de5008ab_892d_11eb_a96a_480fcf6695dfrow1_col2 {\n",
       "            text-align:  center;\n",
       "        }    #T_de5008ab_892d_11eb_a96a_480fcf6695dfrow1_col3 {\n",
       "            text-align:  center;\n",
       "        }</style><table id=\"T_de5008ab_892d_11eb_a96a_480fcf6695df\" ><thead>    <tr>        <th class=\"col_heading level0 col0\" >FirstName</th>        <th class=\"col_heading level0 col1\" >PayoutDate</th>        <th class=\"col_heading level0 col2\" >PayoutinHrs</th>        <th class=\"col_heading level0 col3\" >Date_String</th>    </tr></thead><tbody>\n",
       "                <tr>\n",
       "                                <td id=\"T_de5008ab_892d_11eb_a96a_480fcf6695dfrow0_col0\" class=\"data row0 col0\" >Arran</td>\n",
       "                        <td id=\"T_de5008ab_892d_11eb_a96a_480fcf6695dfrow0_col1\" class=\"data row0 col1\" >2020-09-12 00:00:00</td>\n",
       "                        <td id=\"T_de5008ab_892d_11eb_a96a_480fcf6695dfrow0_col2\" class=\"data row0 col2\" >0.250000</td>\n",
       "                        <td id=\"T_de5008ab_892d_11eb_a96a_480fcf6695dfrow0_col3\" class=\"data row0 col3\" >2020-09-12</td>\n",
       "            </tr>\n",
       "            <tr>\n",
       "                                <td id=\"T_de5008ab_892d_11eb_a96a_480fcf6695dfrow1_col0\" class=\"data row1 col0\" >Jaclyn</td>\n",
       "                        <td id=\"T_de5008ab_892d_11eb_a96a_480fcf6695dfrow1_col1\" class=\"data row1 col1\" >2020-09-12 00:00:00</td>\n",
       "                        <td id=\"T_de5008ab_892d_11eb_a96a_480fcf6695dfrow1_col2\" class=\"data row1 col2\" >0.400000</td>\n",
       "                        <td id=\"T_de5008ab_892d_11eb_a96a_480fcf6695dfrow1_col3\" class=\"data row1 col3\" >2020-09-12</td>\n",
       "            </tr>\n",
       "    </tbody></table>"
      ],
      "text/plain": [
       "<pandas.io.formats.style.Styler at 0x18b8c60a250>"
      ]
     },
     "execution_count": 122,
     "metadata": {},
     "output_type": "execute_result"
    }
   ],
   "source": [
    "#.. and style for preentation\n",
    "df.style.set_properties(**{'text-align':'center'}).hide_index()"
   ]
  },
  {
   "cell_type": "code",
   "execution_count": null,
   "metadata": {},
   "outputs": [],
   "source": []
  }
 ],
 "metadata": {
  "kernelspec": {
   "display_name": "Python 3",
   "language": "python",
   "name": "python3"
  },
  "language_info": {
   "codemirror_mode": {
    "name": "ipython",
    "version": 3
   },
   "file_extension": ".py",
   "mimetype": "text/x-python",
   "name": "python",
   "nbconvert_exporter": "python",
   "pygments_lexer": "ipython3",
   "version": "3.8.2"
  }
 },
 "nbformat": 4,
 "nbformat_minor": 4
}
